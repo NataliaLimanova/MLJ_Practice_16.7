{
 "cells": [
  {
   "cell_type": "markdown",
   "metadata": {
    "id": "9eF9F2FVBpWX"
   },
   "source": [
    "# Несбалансированные выборки. Практическая работа"
   ]
  },
  {
   "cell_type": "markdown",
   "metadata": {
    "id": "MUo9HeJiBmFx"
   },
   "source": [
    "## Цель практической работы\n",
    "\n",
    "Научиться обрабатывать несбалансированные данные и обучать модели машинного обучения на таких данных."
   ]
  },
  {
   "cell_type": "markdown",
   "metadata": {
    "id": "Vzx_4gqxB6Ug"
   },
   "source": [
    "## Что входит в работу\n",
    "\n",
    "\n",
    "1. Загрузить данные и провести разведочный анализ.\n",
    "2. Разделить данные на обучающую и тестовую выборки.\n",
    "3. Подготовить данные для моделирования.\n",
    "4. Сбалансировать данные методом SMOTE и обучить модель машинного обучения.\n",
    "5. Обучить модель машинного обучения с использованием весов классов и кросс-валидации.\n",
    "6. Сравнить метрики качества четырёх моделей.\n",
    "\n",
    "\n"
   ]
  },
  {
   "cell_type": "markdown",
   "metadata": {
    "id": "mIR4D9d7B90r"
   },
   "source": [
    "## Что оценивается\n",
    "\n",
    "- Выполнены все этапы работы.\n",
    "- Не допущена утечка данных при разделении выборок и подготовке данных.\n",
    "- Данные корректным образом сбалансированы.\n",
    "- Модели не переобучены.\n"
   ]
  },
  {
   "cell_type": "markdown",
   "metadata": {
    "id": "eCZ1TMt0CBBY"
   },
   "source": [
    "## Как отправить работу на проверку\n",
    "\n",
    "Скачайте файл с заданиями в материалах, откройте его через Jupyter Notebook и выполните задания. Сохраните изменения при помощи опции Save and Checkpoint из вкладки меню File или кнопки Save and Checkpoint на панели инструментов. Отправьте через форму ниже итоговый файл Jupyter Notebook (в формате .ipynb) или ссылку на него.\n"
   ]
  },
  {
   "cell_type": "markdown",
   "metadata": {
    "id": "byYgWFXWCEUP"
   },
   "source": [
    "# Задача\n",
    "\n",
    "Пусть у нас имеется некоторый набор данных `german_credit_data.csv` о заёмщиках банка:"
   ]
  },
  {
   "cell_type": "markdown",
   "metadata": {
    "id": "A2jH3ATlCG8g"
   },
   "source": [
    "* Age — возраст заёмщика.\n",
    "* Sex — пол заёмщика.\n",
    "* Job — тип работы заёмщика.\n",
    "* Housing — тип жилья заёмщика.\n",
    "* Saving accounts — объём средств на сберегательных счетах заёмщика.\n",
    "* Checking account — объём средств на основном счёте заёмщика.\n",
    "* Credit amount — размер кредита.\n",
    "* Duration — срок кредита (в месяцах).\n",
    "* Purpose — цель кредита.\n",
    "* Risk — таргет, допустил ли заёмщик просрочку платежей по кредиту.\n",
    "\n",
    "Решите задачу классификации заёмщиков, чтобы банк умел заранее предсказывать просрочку платежей по кредиту.\n",
    "\n"
   ]
  },
  {
   "cell_type": "markdown",
   "metadata": {
    "id": "vsKhI6p8CQ5b"
   },
   "source": [
    "# Задание 1\n",
    "\n",
    "Загрузите датасет и выполните разведочный анализ данных. Сделайте выводы о найденных закономерностях, особенностях и других свойствах данных, которые вы обнаружите."
   ]
  },
  {
   "cell_type": "code",
   "execution_count": 1,
   "metadata": {
    "id": "UNvKHWNjzGxw"
   },
   "outputs": [],
   "source": [
    "import pandas as pd\n",
    "import numpy as np\n",
    "import seaborn as sns\n",
    "import matplotlib.pyplot as plt\n",
    "import plotly.express as px\n",
    "from scipy import stats\n",
    "\n",
    "from sklearn import preprocessing\n",
    "from sklearn.model_selection import train_test_split\n",
    "from sklearn.experimental import enable_iterative_imputer\n",
    "from sklearn.impute import IterativeImputer\n",
    "from sklearn.preprocessing import StandardScaler\n",
    "from sklearn.ensemble import RandomForestClassifier\n",
    "from sklearn.ensemble import RandomForestRegressor\n",
    "from sklearn.metrics import roc_auc_score\n",
    "\n",
    "import warnings\n",
    "warnings.filterwarnings('ignore')"
   ]
  },
  {
   "cell_type": "code",
   "execution_count": 2,
   "metadata": {
    "colab": {
     "base_uri": "https://localhost:8080/",
     "height": 423
    },
    "executionInfo": {
     "elapsed": 742,
     "status": "ok",
     "timestamp": 1722707273201,
     "user": {
      "displayName": "Yozhik31",
      "userId": "07739058683274005436"
     },
     "user_tz": -180
    },
    "id": "-l-0x0IEhbP1",
    "outputId": "3ee4afc4-6c6b-4d4d-f00a-5553bd8ab3c2"
   },
   "outputs": [
    {
     "data": {
      "text/html": [
       "<div>\n",
       "<style scoped>\n",
       "    .dataframe tbody tr th:only-of-type {\n",
       "        vertical-align: middle;\n",
       "    }\n",
       "\n",
       "    .dataframe tbody tr th {\n",
       "        vertical-align: top;\n",
       "    }\n",
       "\n",
       "    .dataframe thead th {\n",
       "        text-align: right;\n",
       "    }\n",
       "</style>\n",
       "<table border=\"1\" class=\"dataframe\">\n",
       "  <thead>\n",
       "    <tr style=\"text-align: right;\">\n",
       "      <th></th>\n",
       "      <th>Age</th>\n",
       "      <th>Sex</th>\n",
       "      <th>Job</th>\n",
       "      <th>Housing</th>\n",
       "      <th>Saving accounts</th>\n",
       "      <th>Checking account</th>\n",
       "      <th>Credit amount</th>\n",
       "      <th>Duration</th>\n",
       "      <th>Purpose</th>\n",
       "      <th>Risk</th>\n",
       "    </tr>\n",
       "  </thead>\n",
       "  <tbody>\n",
       "    <tr>\n",
       "      <th>0</th>\n",
       "      <td>67</td>\n",
       "      <td>male</td>\n",
       "      <td>2</td>\n",
       "      <td>own</td>\n",
       "      <td>NaN</td>\n",
       "      <td>little</td>\n",
       "      <td>1169</td>\n",
       "      <td>6</td>\n",
       "      <td>radio/TV</td>\n",
       "      <td>good</td>\n",
       "    </tr>\n",
       "    <tr>\n",
       "      <th>1</th>\n",
       "      <td>22</td>\n",
       "      <td>female</td>\n",
       "      <td>2</td>\n",
       "      <td>own</td>\n",
       "      <td>little</td>\n",
       "      <td>moderate</td>\n",
       "      <td>5951</td>\n",
       "      <td>48</td>\n",
       "      <td>radio/TV</td>\n",
       "      <td>bad</td>\n",
       "    </tr>\n",
       "    <tr>\n",
       "      <th>2</th>\n",
       "      <td>49</td>\n",
       "      <td>male</td>\n",
       "      <td>1</td>\n",
       "      <td>own</td>\n",
       "      <td>little</td>\n",
       "      <td>NaN</td>\n",
       "      <td>2096</td>\n",
       "      <td>12</td>\n",
       "      <td>education</td>\n",
       "      <td>good</td>\n",
       "    </tr>\n",
       "    <tr>\n",
       "      <th>3</th>\n",
       "      <td>45</td>\n",
       "      <td>male</td>\n",
       "      <td>2</td>\n",
       "      <td>free</td>\n",
       "      <td>little</td>\n",
       "      <td>little</td>\n",
       "      <td>7882</td>\n",
       "      <td>42</td>\n",
       "      <td>furniture/equipment</td>\n",
       "      <td>good</td>\n",
       "    </tr>\n",
       "    <tr>\n",
       "      <th>4</th>\n",
       "      <td>53</td>\n",
       "      <td>male</td>\n",
       "      <td>2</td>\n",
       "      <td>free</td>\n",
       "      <td>little</td>\n",
       "      <td>little</td>\n",
       "      <td>4870</td>\n",
       "      <td>24</td>\n",
       "      <td>car</td>\n",
       "      <td>bad</td>\n",
       "    </tr>\n",
       "    <tr>\n",
       "      <th>...</th>\n",
       "      <td>...</td>\n",
       "      <td>...</td>\n",
       "      <td>...</td>\n",
       "      <td>...</td>\n",
       "      <td>...</td>\n",
       "      <td>...</td>\n",
       "      <td>...</td>\n",
       "      <td>...</td>\n",
       "      <td>...</td>\n",
       "      <td>...</td>\n",
       "    </tr>\n",
       "    <tr>\n",
       "      <th>995</th>\n",
       "      <td>31</td>\n",
       "      <td>female</td>\n",
       "      <td>1</td>\n",
       "      <td>own</td>\n",
       "      <td>little</td>\n",
       "      <td>NaN</td>\n",
       "      <td>1736</td>\n",
       "      <td>12</td>\n",
       "      <td>furniture/equipment</td>\n",
       "      <td>good</td>\n",
       "    </tr>\n",
       "    <tr>\n",
       "      <th>996</th>\n",
       "      <td>40</td>\n",
       "      <td>male</td>\n",
       "      <td>3</td>\n",
       "      <td>own</td>\n",
       "      <td>little</td>\n",
       "      <td>little</td>\n",
       "      <td>3857</td>\n",
       "      <td>30</td>\n",
       "      <td>car</td>\n",
       "      <td>good</td>\n",
       "    </tr>\n",
       "    <tr>\n",
       "      <th>997</th>\n",
       "      <td>38</td>\n",
       "      <td>male</td>\n",
       "      <td>2</td>\n",
       "      <td>own</td>\n",
       "      <td>little</td>\n",
       "      <td>NaN</td>\n",
       "      <td>804</td>\n",
       "      <td>12</td>\n",
       "      <td>radio/TV</td>\n",
       "      <td>good</td>\n",
       "    </tr>\n",
       "    <tr>\n",
       "      <th>998</th>\n",
       "      <td>23</td>\n",
       "      <td>male</td>\n",
       "      <td>2</td>\n",
       "      <td>free</td>\n",
       "      <td>little</td>\n",
       "      <td>little</td>\n",
       "      <td>1845</td>\n",
       "      <td>45</td>\n",
       "      <td>radio/TV</td>\n",
       "      <td>bad</td>\n",
       "    </tr>\n",
       "    <tr>\n",
       "      <th>999</th>\n",
       "      <td>27</td>\n",
       "      <td>male</td>\n",
       "      <td>2</td>\n",
       "      <td>own</td>\n",
       "      <td>moderate</td>\n",
       "      <td>moderate</td>\n",
       "      <td>4576</td>\n",
       "      <td>45</td>\n",
       "      <td>car</td>\n",
       "      <td>good</td>\n",
       "    </tr>\n",
       "  </tbody>\n",
       "</table>\n",
       "<p>1000 rows × 10 columns</p>\n",
       "</div>"
      ],
      "text/plain": [
       "     Age     Sex  Job Housing Saving accounts Checking account  Credit amount  \\\n",
       "0     67    male    2     own             NaN           little           1169   \n",
       "1     22  female    2     own          little         moderate           5951   \n",
       "2     49    male    1     own          little              NaN           2096   \n",
       "3     45    male    2    free          little           little           7882   \n",
       "4     53    male    2    free          little           little           4870   \n",
       "..   ...     ...  ...     ...             ...              ...            ...   \n",
       "995   31  female    1     own          little              NaN           1736   \n",
       "996   40    male    3     own          little           little           3857   \n",
       "997   38    male    2     own          little              NaN            804   \n",
       "998   23    male    2    free          little           little           1845   \n",
       "999   27    male    2     own        moderate         moderate           4576   \n",
       "\n",
       "     Duration              Purpose  Risk  \n",
       "0           6             radio/TV  good  \n",
       "1          48             radio/TV   bad  \n",
       "2          12            education  good  \n",
       "3          42  furniture/equipment  good  \n",
       "4          24                  car   bad  \n",
       "..        ...                  ...   ...  \n",
       "995        12  furniture/equipment  good  \n",
       "996        30                  car  good  \n",
       "997        12             radio/TV  good  \n",
       "998        45             radio/TV   bad  \n",
       "999        45                  car  good  \n",
       "\n",
       "[1000 rows x 10 columns]"
      ]
     },
     "execution_count": 2,
     "metadata": {},
     "output_type": "execute_result"
    }
   ],
   "source": [
    "df = pd.read_csv('german_credit_data.csv')\n",
    "df"
   ]
  },
  {
   "cell_type": "code",
   "execution_count": 3,
   "metadata": {
    "colab": {
     "base_uri": "https://localhost:8080/",
     "height": 397
    },
    "executionInfo": {
     "elapsed": 282,
     "status": "ok",
     "timestamp": 1722707276276,
     "user": {
      "displayName": "Yozhik31",
      "userId": "07739058683274005436"
     },
     "user_tz": -180
    },
    "id": "mniJREv-h0UY",
    "outputId": "2f8b57a9-9515-4824-b4ce-82e6cc07398e"
   },
   "outputs": [
    {
     "data": {
      "text/plain": [
       "Age                   0\n",
       "Sex                   0\n",
       "Job                   0\n",
       "Housing               0\n",
       "Saving accounts     183\n",
       "Checking account    394\n",
       "Credit amount         0\n",
       "Duration              0\n",
       "Purpose               0\n",
       "Risk                  0\n",
       "dtype: int64"
      ]
     },
     "execution_count": 3,
     "metadata": {},
     "output_type": "execute_result"
    }
   ],
   "source": [
    "df.isna().sum()"
   ]
  },
  {
   "cell_type": "code",
   "execution_count": 4,
   "metadata": {
    "colab": {
     "base_uri": "https://localhost:8080/",
     "height": 397
    },
    "executionInfo": {
     "elapsed": 263,
     "status": "ok",
     "timestamp": 1722707278832,
     "user": {
      "displayName": "Yozhik31",
      "userId": "07739058683274005436"
     },
     "user_tz": -180
    },
    "id": "qxWzm4Z16be7",
    "outputId": "7ea6e3d4-a125-48ac-aa5b-d330e2a1c461"
   },
   "outputs": [
    {
     "data": {
      "text/plain": [
       "Age                 0.000\n",
       "Sex                 0.000\n",
       "Job                 0.000\n",
       "Housing             0.000\n",
       "Saving accounts     0.183\n",
       "Checking account    0.394\n",
       "Credit amount       0.000\n",
       "Duration            0.000\n",
       "Purpose             0.000\n",
       "Risk                0.000\n",
       "dtype: float64"
      ]
     },
     "execution_count": 4,
     "metadata": {},
     "output_type": "execute_result"
    }
   ],
   "source": [
    "df.isna().sum() / df.shape[0]"
   ]
  },
  {
   "cell_type": "code",
   "execution_count": 5,
   "metadata": {
    "colab": {
     "base_uri": "https://localhost:8080/"
    },
    "executionInfo": {
     "elapsed": 279,
     "status": "ok",
     "timestamp": 1722707281589,
     "user": {
      "displayName": "Yozhik31",
      "userId": "07739058683274005436"
     },
     "user_tz": -180
    },
    "id": "b47V6GHRZeRd",
    "outputId": "bf7b471f-d0a7-454f-a73c-fa3e3bd0460f"
   },
   "outputs": [
    {
     "name": "stdout",
     "output_type": "stream",
     "text": [
      "<class 'pandas.core.frame.DataFrame'>\n",
      "RangeIndex: 1000 entries, 0 to 999\n",
      "Data columns (total 10 columns):\n",
      " #   Column            Non-Null Count  Dtype \n",
      "---  ------            --------------  ----- \n",
      " 0   Age               1000 non-null   int64 \n",
      " 1   Sex               1000 non-null   object\n",
      " 2   Job               1000 non-null   int64 \n",
      " 3   Housing           1000 non-null   object\n",
      " 4   Saving accounts   817 non-null    object\n",
      " 5   Checking account  606 non-null    object\n",
      " 6   Credit amount     1000 non-null   int64 \n",
      " 7   Duration          1000 non-null   int64 \n",
      " 8   Purpose           1000 non-null   object\n",
      " 9   Risk              1000 non-null   object\n",
      "dtypes: int64(4), object(6)\n",
      "memory usage: 78.3+ KB\n"
     ]
    }
   ],
   "source": [
    "df.info()"
   ]
  },
  {
   "cell_type": "code",
   "execution_count": 6,
   "metadata": {
    "colab": {
     "base_uri": "https://localhost:8080/",
     "height": 300
    },
    "executionInfo": {
     "elapsed": 299,
     "status": "ok",
     "timestamp": 1722707284653,
     "user": {
      "displayName": "Yozhik31",
      "userId": "07739058683274005436"
     },
     "user_tz": -180
    },
    "id": "eKPSWljH61Hz",
    "outputId": "0e91b438-be29-46ea-fbfc-25a692b01652"
   },
   "outputs": [
    {
     "data": {
      "text/html": [
       "<div>\n",
       "<style scoped>\n",
       "    .dataframe tbody tr th:only-of-type {\n",
       "        vertical-align: middle;\n",
       "    }\n",
       "\n",
       "    .dataframe tbody tr th {\n",
       "        vertical-align: top;\n",
       "    }\n",
       "\n",
       "    .dataframe thead th {\n",
       "        text-align: right;\n",
       "    }\n",
       "</style>\n",
       "<table border=\"1\" class=\"dataframe\">\n",
       "  <thead>\n",
       "    <tr style=\"text-align: right;\">\n",
       "      <th></th>\n",
       "      <th>Age</th>\n",
       "      <th>Job</th>\n",
       "      <th>Credit amount</th>\n",
       "      <th>Duration</th>\n",
       "    </tr>\n",
       "  </thead>\n",
       "  <tbody>\n",
       "    <tr>\n",
       "      <th>count</th>\n",
       "      <td>1000.000000</td>\n",
       "      <td>1000.000000</td>\n",
       "      <td>1000.000000</td>\n",
       "      <td>1000.000000</td>\n",
       "    </tr>\n",
       "    <tr>\n",
       "      <th>mean</th>\n",
       "      <td>35.546000</td>\n",
       "      <td>1.904000</td>\n",
       "      <td>3271.258000</td>\n",
       "      <td>20.903000</td>\n",
       "    </tr>\n",
       "    <tr>\n",
       "      <th>std</th>\n",
       "      <td>11.375469</td>\n",
       "      <td>0.653614</td>\n",
       "      <td>2822.736876</td>\n",
       "      <td>12.058814</td>\n",
       "    </tr>\n",
       "    <tr>\n",
       "      <th>min</th>\n",
       "      <td>19.000000</td>\n",
       "      <td>0.000000</td>\n",
       "      <td>250.000000</td>\n",
       "      <td>4.000000</td>\n",
       "    </tr>\n",
       "    <tr>\n",
       "      <th>25%</th>\n",
       "      <td>27.000000</td>\n",
       "      <td>2.000000</td>\n",
       "      <td>1365.500000</td>\n",
       "      <td>12.000000</td>\n",
       "    </tr>\n",
       "    <tr>\n",
       "      <th>50%</th>\n",
       "      <td>33.000000</td>\n",
       "      <td>2.000000</td>\n",
       "      <td>2319.500000</td>\n",
       "      <td>18.000000</td>\n",
       "    </tr>\n",
       "    <tr>\n",
       "      <th>75%</th>\n",
       "      <td>42.000000</td>\n",
       "      <td>2.000000</td>\n",
       "      <td>3972.250000</td>\n",
       "      <td>24.000000</td>\n",
       "    </tr>\n",
       "    <tr>\n",
       "      <th>max</th>\n",
       "      <td>75.000000</td>\n",
       "      <td>3.000000</td>\n",
       "      <td>18424.000000</td>\n",
       "      <td>72.000000</td>\n",
       "    </tr>\n",
       "  </tbody>\n",
       "</table>\n",
       "</div>"
      ],
      "text/plain": [
       "               Age          Job  Credit amount     Duration\n",
       "count  1000.000000  1000.000000    1000.000000  1000.000000\n",
       "mean     35.546000     1.904000    3271.258000    20.903000\n",
       "std      11.375469     0.653614    2822.736876    12.058814\n",
       "min      19.000000     0.000000     250.000000     4.000000\n",
       "25%      27.000000     2.000000    1365.500000    12.000000\n",
       "50%      33.000000     2.000000    2319.500000    18.000000\n",
       "75%      42.000000     2.000000    3972.250000    24.000000\n",
       "max      75.000000     3.000000   18424.000000    72.000000"
      ]
     },
     "execution_count": 6,
     "metadata": {},
     "output_type": "execute_result"
    }
   ],
   "source": [
    "df.describe()"
   ]
  },
  {
   "cell_type": "code",
   "execution_count": 7,
   "metadata": {
    "colab": {
     "base_uri": "https://localhost:8080/",
     "height": 430
    },
    "executionInfo": {
     "elapsed": 443,
     "status": "ok",
     "timestamp": 1722707287568,
     "user": {
      "displayName": "Yozhik31",
      "userId": "07739058683274005436"
     },
     "user_tz": -180
    },
    "id": "lpOolY2E_g9G",
    "outputId": "0d9da030-26d6-4940-c67a-8f82d6b72108"
   },
   "outputs": [
    {
     "data": {
      "image/png": "[encoded data removed]",
      "text/plain": [
       "<Figure size 640x480 with 1 Axes>"
      ]
     },
     "metadata": {},
     "output_type": "display_data"
    }
   ],
   "source": [
    "df.groupby('Sex').size().plot(kind='barh', color=sns.palettes.mpl_palette('Dark2'))\n",
    "plt.gca().spines[['top', 'right',]].set_visible(False)"
   ]
  },
  {
   "cell_type": "code",
   "execution_count": 8,
   "metadata": {
    "colab": {
     "base_uri": "https://localhost:8080/",
     "height": 430
    },
    "executionInfo": {
     "elapsed": 721,
     "status": "ok",
     "timestamp": 1722707291107,
     "user": {
      "displayName": "Yozhik31",
      "userId": "07739058683274005436"
     },
     "user_tz": -180
    },
    "id": "eL1U2UXi_v1W",
    "outputId": "eff8d437-428f-4a4d-e62b-fb3cad125ed5"
   },
   "outputs": [
    {
     "data": {
      "image/png": "[encoded data removed]",
      "text/plain": [
       "<Figure size 640x480 with 1 Axes>"
      ]
     },
     "metadata": {},
     "output_type": "display_data"
    }
   ],
   "source": [
    "df.groupby('Job').size().plot(kind='barh', color=sns.palettes.mpl_palette('Dark2'))\n",
    "plt.gca().spines[['top', 'right',]].set_visible(False)"
   ]
  },
  {
   "cell_type": "code",
   "execution_count": 9,
   "metadata": {
    "colab": {
     "base_uri": "https://localhost:8080/",
     "height": 430
    },
    "executionInfo": {
     "elapsed": 322,
     "status": "ok",
     "timestamp": 1722701774552,
     "user": {
      "displayName": "Yozhik31",
      "userId": "07739058683274005436"
     },
     "user_tz": -180
    },
    "id": "nLD2s90g_54C",
    "outputId": "1c9bfb81-8d3c-4162-f7dd-afca0cec5c0f"
   },
   "outputs": [
    {
     "data": {
      "image/png": "[encoded data removed]",
      "text/plain": [
       "<Figure size 640x480 with 1 Axes>"
      ]
     },
     "metadata": {},
     "output_type": "display_data"
    }
   ],
   "source": [
    "df.groupby('Housing').size().plot(kind='barh', color=sns.palettes.mpl_palette('Dark2'))\n",
    "plt.gca().spines[['top', 'right',]].set_visible(False)"
   ]
  },
  {
   "cell_type": "code",
   "execution_count": 10,
   "metadata": {
    "colab": {
     "base_uri": "https://localhost:8080/",
     "height": 430
    },
    "executionInfo": {
     "elapsed": 451,
     "status": "ok",
     "timestamp": 1722701777206,
     "user": {
      "displayName": "Yozhik31",
      "userId": "07739058683274005436"
     },
     "user_tz": -180
    },
    "id": "fvd7dq3oAu8q",
    "outputId": "4db2b4b0-fdfd-4186-855f-69550ec8a684"
   },
   "outputs": [
    {
     "data": {
      "image/png": "[encoded data removed]",
      "text/plain": [
       "<Figure size 640x480 with 1 Axes>"
      ]
     },
     "metadata": {},
     "output_type": "display_data"
    }
   ],
   "source": [
    "df.groupby('Saving accounts').size().plot(kind='barh', color=sns.palettes.mpl_palette('Dark2'))\n",
    "plt.gca().spines[['top', 'right',]].set_visible(False)"
   ]
  },
  {
   "cell_type": "code",
   "execution_count": 11,
   "metadata": {
    "colab": {
     "base_uri": "https://localhost:8080/"
    },
    "executionInfo": {
     "elapsed": 397,
     "status": "ok",
     "timestamp": 1722707297738,
     "user": {
      "displayName": "Yozhik31",
      "userId": "07739058683274005436"
     },
     "user_tz": -180
    },
    "id": "4UmoJplVlukx",
    "outputId": "75db1782-b62b-41d2-b44a-f9796836cae6"
   },
   "outputs": [
    {
     "name": "stdout",
     "output_type": "stream",
     "text": [
      "Sex (['male' 'female'])\n",
      "\n",
      "\n",
      "Job ([2 1 3 0])\n",
      "\n",
      "\n",
      "Housing (['own' 'free' 'rent'])\n",
      "\n",
      "\n",
      "Saving accounts ([nan 'little' 'quite rich' 'rich' 'moderate'])\n",
      "\n",
      "\n",
      "Checking account (['little' 'moderate' nan 'rich'])\n",
      "\n",
      "\n",
      "Purpose (['radio/TV' 'education' 'furniture/equipment' 'car' 'business'\n",
      " 'domestic appliances' 'repairs' 'vacation/others'])\n",
      "\n",
      "\n",
      "Risk (['good' 'bad'])\n",
      "\n",
      "\n"
     ]
    }
   ],
   "source": [
    "columns = ['Sex', 'Job', 'Housing', 'Saving accounts', 'Checking account', 'Purpose', 'Risk']\n",
    "for col in columns:\n",
    "    unique_values = df[col].unique()\n",
    "    print(f\"{col} ({unique_values})\")\n",
    "    print(\"\\n\")"
   ]
  },
  {
   "cell_type": "code",
   "execution_count": 12,
   "metadata": {
    "colab": {
     "base_uri": "https://localhost:8080/",
     "height": 112
    },
    "executionInfo": {
     "elapsed": 263,
     "status": "ok",
     "timestamp": 1722707300907,
     "user": {
      "displayName": "Yozhik31",
      "userId": "07739058683274005436"
     },
     "user_tz": -180
    },
    "id": "hTESABOa5Qj4",
    "outputId": "a1bbd799-4b88-4d89-f761-1ea8d9cac0d4"
   },
   "outputs": [
    {
     "data": {
      "text/html": [
       "<div>\n",
       "<style scoped>\n",
       "    .dataframe tbody tr th:only-of-type {\n",
       "        vertical-align: middle;\n",
       "    }\n",
       "\n",
       "    .dataframe tbody tr th {\n",
       "        vertical-align: top;\n",
       "    }\n",
       "\n",
       "    .dataframe thead th {\n",
       "        text-align: right;\n",
       "    }\n",
       "</style>\n",
       "<table border=\"1\" class=\"dataframe\">\n",
       "  <thead>\n",
       "    <tr style=\"text-align: right;\">\n",
       "      <th></th>\n",
       "      <th>Saving accounts</th>\n",
       "      <th>Checking account</th>\n",
       "    </tr>\n",
       "  </thead>\n",
       "  <tbody>\n",
       "    <tr>\n",
       "      <th>Saving accounts</th>\n",
       "      <td>1.000000</td>\n",
       "      <td>0.142364</td>\n",
       "    </tr>\n",
       "    <tr>\n",
       "      <th>Checking account</th>\n",
       "      <td>0.142364</td>\n",
       "      <td>1.000000</td>\n",
       "    </tr>\n",
       "  </tbody>\n",
       "</table>\n",
       "</div>"
      ],
      "text/plain": [
       "                  Saving accounts  Checking account\n",
       "Saving accounts          1.000000          0.142364\n",
       "Checking account         0.142364          1.000000"
      ]
     },
     "execution_count": 12,
     "metadata": {},
     "output_type": "execute_result"
    }
   ],
   "source": [
    "# Проверим корреляцию пропущенных значений разных признаков. Корреляция очень слабая\n",
    "df[['Saving accounts', 'Checking account']].isnull().corr()"
   ]
  },
  {
   "cell_type": "markdown",
   "metadata": {
    "id": "C3WIlLK76vVl"
   },
   "source": [
    "1. Пропущенные значения находятся в категориальных признаках Saving accounts и Checking account. Процент пропущенных значений Saving accounts = 18,3%, Checking account = 39,4%."
   ]
  },
  {
   "cell_type": "markdown",
   "metadata": {
    "id": "lqkVFhYoWq_R"
   },
   "source": [
    "Преобразование категориальных переменных в числовые."
   ]
  },
  {
   "cell_type": "code",
   "execution_count": 13,
   "metadata": {
    "id": "pRTGs3zY1Vaz"
   },
   "outputs": [],
   "source": [
    "df['Sex'].replace(['male','female'],\n",
    "[0,1],inplace = True)"
   ]
  },
  {
   "cell_type": "code",
   "execution_count": 14,
   "metadata": {
    "id": "4vapKR2g-NHF"
   },
   "outputs": [],
   "source": [
    "df['Checking account'].replace(['little', 'moderate', 'rich'],\n",
    "[0,1,2],inplace = True)"
   ]
  },
  {
   "cell_type": "code",
   "execution_count": 15,
   "metadata": {
    "id": "8FCOA3nM-pCX"
   },
   "outputs": [],
   "source": [
    "df['Saving accounts'].replace(['little', 'moderate', 'rich', 'quite rich'],\n",
    "[0,1,2,3],inplace = True)"
   ]
  },
  {
   "cell_type": "code",
   "execution_count": 16,
   "metadata": {
    "id": "8xjLmuEH1o3O"
   },
   "outputs": [],
   "source": [
    "df['Risk'].replace(['bad','good'],\n",
    "[0,1],inplace = True)"
   ]
  },
  {
   "cell_type": "code",
   "execution_count": 17,
   "metadata": {
    "id": "CisChK_l2V8b"
   },
   "outputs": [],
   "source": [
    "df['Housing'].replace(['free', 'rent', 'own'],\n",
    "[0,1,2],inplace = True)"
   ]
  },
  {
   "cell_type": "code",
   "execution_count": 18,
   "metadata": {
    "colab": {
     "base_uri": "https://localhost:8080/",
     "height": 423
    },
    "executionInfo": {
     "elapsed": 328,
     "status": "ok",
     "timestamp": 1722707314176,
     "user": {
      "displayName": "Yozhik31",
      "userId": "07739058683274005436"
     },
     "user_tz": -180
    },
    "id": "riBcZajO7hN4",
    "outputId": "b19d7431-89b0-46bd-8e87-a508bee5073f"
   },
   "outputs": [
    {
     "data": {
      "text/html": [
       "<div>\n",
       "<style scoped>\n",
       "    .dataframe tbody tr th:only-of-type {\n",
       "        vertical-align: middle;\n",
       "    }\n",
       "\n",
       "    .dataframe tbody tr th {\n",
       "        vertical-align: top;\n",
       "    }\n",
       "\n",
       "    .dataframe thead th {\n",
       "        text-align: right;\n",
       "    }\n",
       "</style>\n",
       "<table border=\"1\" class=\"dataframe\">\n",
       "  <thead>\n",
       "    <tr style=\"text-align: right;\">\n",
       "      <th></th>\n",
       "      <th>Age</th>\n",
       "      <th>Sex</th>\n",
       "      <th>Job</th>\n",
       "      <th>Housing</th>\n",
       "      <th>Saving accounts</th>\n",
       "      <th>Checking account</th>\n",
       "      <th>Credit amount</th>\n",
       "      <th>Duration</th>\n",
       "      <th>Purpose</th>\n",
       "      <th>Risk</th>\n",
       "    </tr>\n",
       "  </thead>\n",
       "  <tbody>\n",
       "    <tr>\n",
       "      <th>0</th>\n",
       "      <td>67</td>\n",
       "      <td>0</td>\n",
       "      <td>2</td>\n",
       "      <td>2</td>\n",
       "      <td>NaN</td>\n",
       "      <td>0.0</td>\n",
       "      <td>1169</td>\n",
       "      <td>6</td>\n",
       "      <td>radio/TV</td>\n",
       "      <td>1</td>\n",
       "    </tr>\n",
       "    <tr>\n",
       "      <th>1</th>\n",
       "      <td>22</td>\n",
       "      <td>1</td>\n",
       "      <td>2</td>\n",
       "      <td>2</td>\n",
       "      <td>0.0</td>\n",
       "      <td>1.0</td>\n",
       "      <td>5951</td>\n",
       "      <td>48</td>\n",
       "      <td>radio/TV</td>\n",
       "      <td>0</td>\n",
       "    </tr>\n",
       "    <tr>\n",
       "      <th>2</th>\n",
       "      <td>49</td>\n",
       "      <td>0</td>\n",
       "      <td>1</td>\n",
       "      <td>2</td>\n",
       "      <td>0.0</td>\n",
       "      <td>NaN</td>\n",
       "      <td>2096</td>\n",
       "      <td>12</td>\n",
       "      <td>education</td>\n",
       "      <td>1</td>\n",
       "    </tr>\n",
       "    <tr>\n",
       "      <th>3</th>\n",
       "      <td>45</td>\n",
       "      <td>0</td>\n",
       "      <td>2</td>\n",
       "      <td>0</td>\n",
       "      <td>0.0</td>\n",
       "      <td>0.0</td>\n",
       "      <td>7882</td>\n",
       "      <td>42</td>\n",
       "      <td>furniture/equipment</td>\n",
       "      <td>1</td>\n",
       "    </tr>\n",
       "    <tr>\n",
       "      <th>4</th>\n",
       "      <td>53</td>\n",
       "      <td>0</td>\n",
       "      <td>2</td>\n",
       "      <td>0</td>\n",
       "      <td>0.0</td>\n",
       "      <td>0.0</td>\n",
       "      <td>4870</td>\n",
       "      <td>24</td>\n",
       "      <td>car</td>\n",
       "      <td>0</td>\n",
       "    </tr>\n",
       "    <tr>\n",
       "      <th>...</th>\n",
       "      <td>...</td>\n",
       "      <td>...</td>\n",
       "      <td>...</td>\n",
       "      <td>...</td>\n",
       "      <td>...</td>\n",
       "      <td>...</td>\n",
       "      <td>...</td>\n",
       "      <td>...</td>\n",
       "      <td>...</td>\n",
       "      <td>...</td>\n",
       "    </tr>\n",
       "    <tr>\n",
       "      <th>995</th>\n",
       "      <td>31</td>\n",
       "      <td>1</td>\n",
       "      <td>1</td>\n",
       "      <td>2</td>\n",
       "      <td>0.0</td>\n",
       "      <td>NaN</td>\n",
       "      <td>1736</td>\n",
       "      <td>12</td>\n",
       "      <td>furniture/equipment</td>\n",
       "      <td>1</td>\n",
       "    </tr>\n",
       "    <tr>\n",
       "      <th>996</th>\n",
       "      <td>40</td>\n",
       "      <td>0</td>\n",
       "      <td>3</td>\n",
       "      <td>2</td>\n",
       "      <td>0.0</td>\n",
       "      <td>0.0</td>\n",
       "      <td>3857</td>\n",
       "      <td>30</td>\n",
       "      <td>car</td>\n",
       "      <td>1</td>\n",
       "    </tr>\n",
       "    <tr>\n",
       "      <th>997</th>\n",
       "      <td>38</td>\n",
       "      <td>0</td>\n",
       "      <td>2</td>\n",
       "      <td>2</td>\n",
       "      <td>0.0</td>\n",
       "      <td>NaN</td>\n",
       "      <td>804</td>\n",
       "      <td>12</td>\n",
       "      <td>radio/TV</td>\n",
       "      <td>1</td>\n",
       "    </tr>\n",
       "    <tr>\n",
       "      <th>998</th>\n",
       "      <td>23</td>\n",
       "      <td>0</td>\n",
       "      <td>2</td>\n",
       "      <td>0</td>\n",
       "      <td>0.0</td>\n",
       "      <td>0.0</td>\n",
       "      <td>1845</td>\n",
       "      <td>45</td>\n",
       "      <td>radio/TV</td>\n",
       "      <td>0</td>\n",
       "    </tr>\n",
       "    <tr>\n",
       "      <th>999</th>\n",
       "      <td>27</td>\n",
       "      <td>0</td>\n",
       "      <td>2</td>\n",
       "      <td>2</td>\n",
       "      <td>1.0</td>\n",
       "      <td>1.0</td>\n",
       "      <td>4576</td>\n",
       "      <td>45</td>\n",
       "      <td>car</td>\n",
       "      <td>1</td>\n",
       "    </tr>\n",
       "  </tbody>\n",
       "</table>\n",
       "<p>1000 rows × 10 columns</p>\n",
       "</div>"
      ],
      "text/plain": [
       "     Age  Sex  Job  Housing  Saving accounts  Checking account  Credit amount  \\\n",
       "0     67    0    2        2              NaN               0.0           1169   \n",
       "1     22    1    2        2              0.0               1.0           5951   \n",
       "2     49    0    1        2              0.0               NaN           2096   \n",
       "3     45    0    2        0              0.0               0.0           7882   \n",
       "4     53    0    2        0              0.0               0.0           4870   \n",
       "..   ...  ...  ...      ...              ...               ...            ...   \n",
       "995   31    1    1        2              0.0               NaN           1736   \n",
       "996   40    0    3        2              0.0               0.0           3857   \n",
       "997   38    0    2        2              0.0               NaN            804   \n",
       "998   23    0    2        0              0.0               0.0           1845   \n",
       "999   27    0    2        2              1.0               1.0           4576   \n",
       "\n",
       "     Duration              Purpose  Risk  \n",
       "0           6             radio/TV     1  \n",
       "1          48             radio/TV     0  \n",
       "2          12            education     1  \n",
       "3          42  furniture/equipment     1  \n",
       "4          24                  car     0  \n",
       "..        ...                  ...   ...  \n",
       "995        12  furniture/equipment     1  \n",
       "996        30                  car     1  \n",
       "997        12             radio/TV     1  \n",
       "998        45             radio/TV     0  \n",
       "999        45                  car     1  \n",
       "\n",
       "[1000 rows x 10 columns]"
      ]
     },
     "execution_count": 18,
     "metadata": {},
     "output_type": "execute_result"
    }
   ],
   "source": [
    "df"
   ]
  },
  {
   "cell_type": "markdown",
   "metadata": {
    "id": "_Dg1_EdPXCL0"
   },
   "source": [
    "Заполнение пропущенных значений для в признаках Saving accounts и Checking account с использованием метода MICE (multivariate Imputation of Chained Equations)."
   ]
  },
  {
   "cell_type": "code",
   "execution_count": 19,
   "metadata": {
    "id": "qMT9q9sI4R3u"
   },
   "outputs": [],
   "source": [
    "imputer = IterativeImputer(\n",
    "    estimator=RandomForestRegressor(n_estimators=10, random_state=1),\n",
    "    max_iter=10,\n",
    "    random_state=1)\n",
    "\n",
    "num_columns = ['Age', 'Job', 'Housing',\t'Saving accounts', 'Checking account',\t'Credit amount', 'Duration']"
   ]
  },
  {
   "cell_type": "code",
   "execution_count": 20,
   "metadata": {
    "id": "my8_mkLm5lHW"
   },
   "outputs": [],
   "source": [
    "df[num_columns] = imputer.fit_transform(df[num_columns])"
   ]
  },
  {
   "cell_type": "code",
   "execution_count": 21,
   "metadata": {
    "colab": {
     "base_uri": "https://localhost:8080/",
     "height": 397
    },
    "executionInfo": {
     "elapsed": 3,
     "status": "ok",
     "timestamp": 1722707324210,
     "user": {
      "displayName": "Yozhik31",
      "userId": "07739058683274005436"
     },
     "user_tz": -180
    },
    "id": "zU4BYc3V-Tqd",
    "outputId": "0d2f172f-86dc-4765-e9d9-6c6a813f2f52"
   },
   "outputs": [
    {
     "data": {
      "text/plain": [
       "0    0.0\n",
       "1    0.0\n",
       "2    0.0\n",
       "3    0.0\n",
       "4    0.0\n",
       "5    2.0\n",
       "6    3.0\n",
       "7    0.0\n",
       "8    2.0\n",
       "9    0.0\n",
       "Name: Saving accounts, dtype: float64"
      ]
     },
     "execution_count": 21,
     "metadata": {},
     "output_type": "execute_result"
    }
   ],
   "source": [
    "df['Saving accounts'].round(0).head(10)"
   ]
  },
  {
   "cell_type": "code",
   "execution_count": 22,
   "metadata": {
    "colab": {
     "base_uri": "https://localhost:8080/",
     "height": 397
    },
    "executionInfo": {
     "elapsed": 307,
     "status": "ok",
     "timestamp": 1722707327457,
     "user": {
      "displayName": "Yozhik31",
      "userId": "07739058683274005436"
     },
     "user_tz": -180
    },
    "id": "LwXllb1c_26Z",
    "outputId": "3ce8e1ff-e7a3-48ba-a7ce-ab80a81cc27f"
   },
   "outputs": [
    {
     "data": {
      "text/plain": [
       "0    0.0\n",
       "1    1.0\n",
       "2    0.0\n",
       "3    0.0\n",
       "4    0.0\n",
       "5    1.0\n",
       "6    1.0\n",
       "7    1.0\n",
       "8    1.0\n",
       "9    1.0\n",
       "Name: Checking account, dtype: float64"
      ]
     },
     "execution_count": 22,
     "metadata": {},
     "output_type": "execute_result"
    }
   ],
   "source": [
    "df['Checking account'].round(0).head(10)"
   ]
  },
  {
   "cell_type": "code",
   "execution_count": 23,
   "metadata": {
    "colab": {
     "base_uri": "https://localhost:8080/",
     "height": 397
    },
    "executionInfo": {
     "elapsed": 638,
     "status": "ok",
     "timestamp": 1722707331025,
     "user": {
      "displayName": "Yozhik31",
      "userId": "07739058683274005436"
     },
     "user_tz": -180
    },
    "id": "mTwSSAWb5slP",
    "outputId": "83729c12-6f91-461c-e29a-754bfe58a8eb"
   },
   "outputs": [
    {
     "data": {
      "text/plain": [
       "Age                 0\n",
       "Sex                 0\n",
       "Job                 0\n",
       "Housing             0\n",
       "Saving accounts     0\n",
       "Checking account    0\n",
       "Credit amount       0\n",
       "Duration            0\n",
       "Purpose             0\n",
       "Risk                0\n",
       "dtype: int64"
      ]
     },
     "execution_count": 23,
     "metadata": {},
     "output_type": "execute_result"
    }
   ],
   "source": [
    "df.isnull().sum()"
   ]
  },
  {
   "cell_type": "code",
   "execution_count": 24,
   "metadata": {
    "colab": {
     "base_uri": "https://localhost:8080/"
    },
    "executionInfo": {
     "elapsed": 2,
     "status": "ok",
     "timestamp": 1722707333939,
     "user": {
      "displayName": "Yozhik31",
      "userId": "07739058683274005436"
     },
     "user_tz": -180
    },
    "id": "TeYv6bad7Sk-",
    "outputId": "ec72c4b1-aae2-4a06-c89f-52ab0a28266b"
   },
   "outputs": [
    {
     "name": "stdout",
     "output_type": "stream",
     "text": [
      "<class 'pandas.core.frame.DataFrame'>\n",
      "RangeIndex: 1000 entries, 0 to 999\n",
      "Data columns (total 10 columns):\n",
      " #   Column            Non-Null Count  Dtype  \n",
      "---  ------            --------------  -----  \n",
      " 0   Age               1000 non-null   float64\n",
      " 1   Sex               1000 non-null   int64  \n",
      " 2   Job               1000 non-null   float64\n",
      " 3   Housing           1000 non-null   float64\n",
      " 4   Saving accounts   1000 non-null   float64\n",
      " 5   Checking account  1000 non-null   float64\n",
      " 6   Credit amount     1000 non-null   float64\n",
      " 7   Duration          1000 non-null   float64\n",
      " 8   Purpose           1000 non-null   object \n",
      " 9   Risk              1000 non-null   int64  \n",
      "dtypes: float64(7), int64(2), object(1)\n",
      "memory usage: 78.3+ KB\n"
     ]
    }
   ],
   "source": [
    "df.info()"
   ]
  },
  {
   "cell_type": "code",
   "execution_count": 25,
   "metadata": {},
   "outputs": [],
   "source": [
    "# Выбираем столбцы с числами с плавающей точкой\n",
    "float_cols = df.select_dtypes(include=['float64']).columns\n",
    "# Преобразуем эти столбцы к целочисленному типу\n",
    "df[float_cols] = df[float_cols].applymap(np.int64)"
   ]
  },
  {
   "cell_type": "code",
   "execution_count": 26,
   "metadata": {
    "colab": {
     "base_uri": "https://localhost:8080/"
    },
    "executionInfo": {
     "elapsed": 556,
     "status": "ok",
     "timestamp": 1722707340392,
     "user": {
      "displayName": "Yozhik31",
      "userId": "07739058683274005436"
     },
     "user_tz": -180
    },
    "id": "wQVGPh3N51o5",
    "outputId": "552431da-8026-4149-f45a-3db557521c56"
   },
   "outputs": [
    {
     "name": "stdout",
     "output_type": "stream",
     "text": [
      "<class 'pandas.core.frame.DataFrame'>\n",
      "RangeIndex: 1000 entries, 0 to 999\n",
      "Data columns (total 10 columns):\n",
      " #   Column            Non-Null Count  Dtype \n",
      "---  ------            --------------  ----- \n",
      " 0   Age               1000 non-null   int64 \n",
      " 1   Sex               1000 non-null   int64 \n",
      " 2   Job               1000 non-null   int64 \n",
      " 3   Housing           1000 non-null   int64 \n",
      " 4   Saving accounts   1000 non-null   int64 \n",
      " 5   Checking account  1000 non-null   int64 \n",
      " 6   Credit amount     1000 non-null   int64 \n",
      " 7   Duration          1000 non-null   int64 \n",
      " 8   Purpose           1000 non-null   object\n",
      " 9   Risk              1000 non-null   int64 \n",
      "dtypes: int64(9), object(1)\n",
      "memory usage: 78.3+ KB\n"
     ]
    }
   ],
   "source": [
    "df.info()"
   ]
  },
  {
   "cell_type": "code",
   "execution_count": 27,
   "metadata": {
    "colab": {
     "base_uri": "https://localhost:8080/",
     "height": 519
    },
    "executionInfo": {
     "elapsed": 504,
     "status": "ok",
     "timestamp": 1722707343626,
     "user": {
      "displayName": "Yozhik31",
      "userId": "07739058683274005436"
     },
     "user_tz": -180
    },
    "id": "tWuHEDCtoqNx",
    "outputId": "1c372113-aa7b-428f-a09b-a5635780534a"
   },
   "outputs": [
    {
     "data": {
      "text/html": [
       "<div>\n",
       "<style scoped>\n",
       "    .dataframe tbody tr th:only-of-type {\n",
       "        vertical-align: middle;\n",
       "    }\n",
       "\n",
       "    .dataframe tbody tr th {\n",
       "        vertical-align: top;\n",
       "    }\n",
       "\n",
       "    .dataframe thead th {\n",
       "        text-align: right;\n",
       "    }\n",
       "</style>\n",
       "<table border=\"1\" class=\"dataframe\">\n",
       "  <thead>\n",
       "    <tr style=\"text-align: right;\">\n",
       "      <th></th>\n",
       "      <th>Age</th>\n",
       "      <th>Sex</th>\n",
       "      <th>Job</th>\n",
       "      <th>Housing</th>\n",
       "      <th>Saving accounts</th>\n",
       "      <th>Checking account</th>\n",
       "      <th>Credit amount</th>\n",
       "      <th>Duration</th>\n",
       "      <th>Purpose</th>\n",
       "      <th>Risk</th>\n",
       "    </tr>\n",
       "  </thead>\n",
       "  <tbody>\n",
       "    <tr>\n",
       "      <th>0</th>\n",
       "      <td>67</td>\n",
       "      <td>0</td>\n",
       "      <td>2</td>\n",
       "      <td>2</td>\n",
       "      <td>0</td>\n",
       "      <td>0</td>\n",
       "      <td>1169</td>\n",
       "      <td>6</td>\n",
       "      <td>radio/TV</td>\n",
       "      <td>1</td>\n",
       "    </tr>\n",
       "    <tr>\n",
       "      <th>1</th>\n",
       "      <td>22</td>\n",
       "      <td>1</td>\n",
       "      <td>2</td>\n",
       "      <td>2</td>\n",
       "      <td>0</td>\n",
       "      <td>1</td>\n",
       "      <td>5951</td>\n",
       "      <td>48</td>\n",
       "      <td>radio/TV</td>\n",
       "      <td>0</td>\n",
       "    </tr>\n",
       "    <tr>\n",
       "      <th>2</th>\n",
       "      <td>49</td>\n",
       "      <td>0</td>\n",
       "      <td>1</td>\n",
       "      <td>2</td>\n",
       "      <td>0</td>\n",
       "      <td>0</td>\n",
       "      <td>2096</td>\n",
       "      <td>12</td>\n",
       "      <td>education</td>\n",
       "      <td>1</td>\n",
       "    </tr>\n",
       "    <tr>\n",
       "      <th>3</th>\n",
       "      <td>45</td>\n",
       "      <td>0</td>\n",
       "      <td>2</td>\n",
       "      <td>0</td>\n",
       "      <td>0</td>\n",
       "      <td>0</td>\n",
       "      <td>7882</td>\n",
       "      <td>42</td>\n",
       "      <td>furniture/equipment</td>\n",
       "      <td>1</td>\n",
       "    </tr>\n",
       "    <tr>\n",
       "      <th>4</th>\n",
       "      <td>53</td>\n",
       "      <td>0</td>\n",
       "      <td>2</td>\n",
       "      <td>0</td>\n",
       "      <td>0</td>\n",
       "      <td>0</td>\n",
       "      <td>4870</td>\n",
       "      <td>24</td>\n",
       "      <td>car</td>\n",
       "      <td>0</td>\n",
       "    </tr>\n",
       "    <tr>\n",
       "      <th>5</th>\n",
       "      <td>35</td>\n",
       "      <td>0</td>\n",
       "      <td>1</td>\n",
       "      <td>0</td>\n",
       "      <td>1</td>\n",
       "      <td>1</td>\n",
       "      <td>9055</td>\n",
       "      <td>36</td>\n",
       "      <td>education</td>\n",
       "      <td>1</td>\n",
       "    </tr>\n",
       "    <tr>\n",
       "      <th>6</th>\n",
       "      <td>53</td>\n",
       "      <td>0</td>\n",
       "      <td>2</td>\n",
       "      <td>2</td>\n",
       "      <td>3</td>\n",
       "      <td>1</td>\n",
       "      <td>2835</td>\n",
       "      <td>24</td>\n",
       "      <td>furniture/equipment</td>\n",
       "      <td>1</td>\n",
       "    </tr>\n",
       "    <tr>\n",
       "      <th>7</th>\n",
       "      <td>35</td>\n",
       "      <td>0</td>\n",
       "      <td>3</td>\n",
       "      <td>1</td>\n",
       "      <td>0</td>\n",
       "      <td>1</td>\n",
       "      <td>6948</td>\n",
       "      <td>36</td>\n",
       "      <td>car</td>\n",
       "      <td>1</td>\n",
       "    </tr>\n",
       "    <tr>\n",
       "      <th>8</th>\n",
       "      <td>61</td>\n",
       "      <td>0</td>\n",
       "      <td>1</td>\n",
       "      <td>2</td>\n",
       "      <td>2</td>\n",
       "      <td>0</td>\n",
       "      <td>3059</td>\n",
       "      <td>12</td>\n",
       "      <td>radio/TV</td>\n",
       "      <td>1</td>\n",
       "    </tr>\n",
       "    <tr>\n",
       "      <th>9</th>\n",
       "      <td>28</td>\n",
       "      <td>0</td>\n",
       "      <td>3</td>\n",
       "      <td>2</td>\n",
       "      <td>0</td>\n",
       "      <td>1</td>\n",
       "      <td>5234</td>\n",
       "      <td>30</td>\n",
       "      <td>car</td>\n",
       "      <td>0</td>\n",
       "    </tr>\n",
       "    <tr>\n",
       "      <th>10</th>\n",
       "      <td>25</td>\n",
       "      <td>1</td>\n",
       "      <td>2</td>\n",
       "      <td>1</td>\n",
       "      <td>0</td>\n",
       "      <td>1</td>\n",
       "      <td>1295</td>\n",
       "      <td>12</td>\n",
       "      <td>car</td>\n",
       "      <td>0</td>\n",
       "    </tr>\n",
       "    <tr>\n",
       "      <th>11</th>\n",
       "      <td>24</td>\n",
       "      <td>1</td>\n",
       "      <td>2</td>\n",
       "      <td>1</td>\n",
       "      <td>0</td>\n",
       "      <td>0</td>\n",
       "      <td>4308</td>\n",
       "      <td>48</td>\n",
       "      <td>business</td>\n",
       "      <td>0</td>\n",
       "    </tr>\n",
       "    <tr>\n",
       "      <th>12</th>\n",
       "      <td>22</td>\n",
       "      <td>1</td>\n",
       "      <td>2</td>\n",
       "      <td>2</td>\n",
       "      <td>0</td>\n",
       "      <td>1</td>\n",
       "      <td>1567</td>\n",
       "      <td>12</td>\n",
       "      <td>radio/TV</td>\n",
       "      <td>1</td>\n",
       "    </tr>\n",
       "    <tr>\n",
       "      <th>13</th>\n",
       "      <td>60</td>\n",
       "      <td>0</td>\n",
       "      <td>1</td>\n",
       "      <td>2</td>\n",
       "      <td>0</td>\n",
       "      <td>0</td>\n",
       "      <td>1199</td>\n",
       "      <td>24</td>\n",
       "      <td>car</td>\n",
       "      <td>0</td>\n",
       "    </tr>\n",
       "    <tr>\n",
       "      <th>14</th>\n",
       "      <td>28</td>\n",
       "      <td>1</td>\n",
       "      <td>2</td>\n",
       "      <td>1</td>\n",
       "      <td>0</td>\n",
       "      <td>0</td>\n",
       "      <td>1403</td>\n",
       "      <td>15</td>\n",
       "      <td>car</td>\n",
       "      <td>1</td>\n",
       "    </tr>\n",
       "  </tbody>\n",
       "</table>\n",
       "</div>"
      ],
      "text/plain": [
       "    Age  Sex  Job  Housing  Saving accounts  Checking account  Credit amount  \\\n",
       "0    67    0    2        2                0                 0           1169   \n",
       "1    22    1    2        2                0                 1           5951   \n",
       "2    49    0    1        2                0                 0           2096   \n",
       "3    45    0    2        0                0                 0           7882   \n",
       "4    53    0    2        0                0                 0           4870   \n",
       "5    35    0    1        0                1                 1           9055   \n",
       "6    53    0    2        2                3                 1           2835   \n",
       "7    35    0    3        1                0                 1           6948   \n",
       "8    61    0    1        2                2                 0           3059   \n",
       "9    28    0    3        2                0                 1           5234   \n",
       "10   25    1    2        1                0                 1           1295   \n",
       "11   24    1    2        1                0                 0           4308   \n",
       "12   22    1    2        2                0                 1           1567   \n",
       "13   60    0    1        2                0                 0           1199   \n",
       "14   28    1    2        1                0                 0           1403   \n",
       "\n",
       "    Duration              Purpose  Risk  \n",
       "0          6             radio/TV     1  \n",
       "1         48             radio/TV     0  \n",
       "2         12            education     1  \n",
       "3         42  furniture/equipment     1  \n",
       "4         24                  car     0  \n",
       "5         36            education     1  \n",
       "6         24  furniture/equipment     1  \n",
       "7         36                  car     1  \n",
       "8         12             radio/TV     1  \n",
       "9         30                  car     0  \n",
       "10        12                  car     0  \n",
       "11        48             business     0  \n",
       "12        12             radio/TV     1  \n",
       "13        24                  car     0  \n",
       "14        15                  car     1  "
      ]
     },
     "execution_count": 27,
     "metadata": {},
     "output_type": "execute_result"
    }
   ],
   "source": [
    "df.head(15)"
   ]
  },
  {
   "cell_type": "code",
   "execution_count": 28,
   "metadata": {
    "colab": {
     "base_uri": "https://localhost:8080/",
     "height": 430
    },
    "executionInfo": {
     "elapsed": 5,
     "status": "ok",
     "timestamp": 1722707347835,
     "user": {
      "displayName": "Yozhik31",
      "userId": "07739058683274005436"
     },
     "user_tz": -180
    },
    "id": "_BC6wwZ_oyHX",
    "outputId": "e65e42ec-31da-426d-b072-97036bc8f2d4"
   },
   "outputs": [
    {
     "data": {
      "image/png": "[encoded data removed]",
      "text/plain": [
       "<Figure size 640x480 with 1 Axes>"
      ]
     },
     "metadata": {},
     "output_type": "display_data"
    }
   ],
   "source": [
    "df.groupby('Purpose').size().plot(kind='barh', color=sns.palettes.mpl_palette('Dark2'))\n",
    "plt.gca().spines[['top', 'right',]].set_visible(False)"
   ]
  },
  {
   "cell_type": "markdown",
   "metadata": {
    "id": "dspQQwX7f-Io"
   },
   "source": [
    "Объеденим категории в признаке Purpose в три группы:\n",
    "- Кредит для покупки машины. Оставим значение \"car\";\n",
    "- Кредит для покупки товаров для дома - \"household_products\". В эту группу войдут  \n",
    "  значения  \"radio/TV\", \"domestic appliance\" и \"furniture/equipment\";\n",
    "- Кредит на другие цели - \"other\". В эту группу войдут значения \"education\",\n",
    "  \"business\", \"repairs\" и \"vacation/others\".\n"
   ]
  },
  {
   "cell_type": "code",
   "execution_count": 29,
   "metadata": {
    "id": "zCH2FctJ21wQ"
   },
   "outputs": [],
   "source": [
    "cleanup_nums = {\"Purpose\": {\"radio/TV\": \"household_products\", \"domestic appliances\": \"household_products\",\n",
    "                            \"furniture/equipment\": \"household_products\", \"education\": \"other\", \"business\": \"other\",\n",
    "                            \"repairs\": \"other\", \"vacation/others\": \"other\"\n",
    "}}"
   ]
  },
  {
   "cell_type": "code",
   "execution_count": 30,
   "metadata": {
    "id": "BX4b02lS6UO5"
   },
   "outputs": [],
   "source": [
    "df = df.replace(cleanup_nums)"
   ]
  },
  {
   "cell_type": "code",
   "execution_count": 31,
   "metadata": {
    "colab": {
     "base_uri": "https://localhost:8080/"
    },
    "executionInfo": {
     "elapsed": 420,
     "status": "ok",
     "timestamp": 1722707356040,
     "user": {
      "displayName": "Yozhik31",
      "userId": "07739058683274005436"
     },
     "user_tz": -180
    },
    "id": "XL6jSfRa6oAn",
    "outputId": "13ed228a-b28a-4247-d730-2501032b6e2f"
   },
   "outputs": [
    {
     "data": {
      "text/plain": [
       "array(['household_products', 'other', 'car'], dtype=object)"
      ]
     },
     "execution_count": 31,
     "metadata": {},
     "output_type": "execute_result"
    }
   ],
   "source": [
    "df.Purpose.unique()"
   ]
  },
  {
   "cell_type": "code",
   "execution_count": 32,
   "metadata": {
    "colab": {
     "base_uri": "https://localhost:8080/"
    },
    "executionInfo": {
     "elapsed": 277,
     "status": "ok",
     "timestamp": 1722707359697,
     "user": {
      "displayName": "Yozhik31",
      "userId": "07739058683274005436"
     },
     "user_tz": -180
    },
    "id": "pf4k85kT_ijT",
    "outputId": "2bbe1d0e-72bc-4c23-f477-4149a67dd354"
   },
   "outputs": [
    {
     "data": {
      "text/plain": [
       "0.7"
      ]
     },
     "execution_count": 32,
     "metadata": {},
     "output_type": "execute_result"
    }
   ],
   "source": [
    "# Проверим распределение в долях значений в целевой переменной - Risk, допустил ли заёмщик просрочку платежей по кредиту\n",
    "global_mean = df.Risk.mean()\n",
    "round(global_mean, 3)"
   ]
  },
  {
   "cell_type": "markdown",
   "metadata": {
    "id": "asMJRDYwk-5Q"
   },
   "source": [
    "Создадим список катигориальных переменных"
   ]
  },
  {
   "cell_type": "code",
   "execution_count": 33,
   "metadata": {
    "id": "V_d9Ff_7lJsg"
   },
   "outputs": [],
   "source": [
    "categorical = [\"Sex\", \"Job\", \"Housing\", \"Saving accounts\", \"Checking account\", \"Purpose\"]"
   ]
  },
  {
   "cell_type": "code",
   "execution_count": 34,
   "metadata": {
    "colab": {
     "base_uri": "https://localhost:8080/",
     "height": 994
    },
    "executionInfo": {
     "elapsed": 273,
     "status": "ok",
     "timestamp": 1722707363609,
     "user": {
      "displayName": "Yozhik31",
      "userId": "07739058683274005436"
     },
     "user_tz": -180
    },
    "id": "yxdbUAyXlttn",
    "outputId": "4631247f-2193-4cda-bab0-19ebf929caed"
   },
   "outputs": [
    {
     "data": {
      "text/html": [
       "<div>\n",
       "<style scoped>\n",
       "    .dataframe tbody tr th:only-of-type {\n",
       "        vertical-align: middle;\n",
       "    }\n",
       "\n",
       "    .dataframe tbody tr th {\n",
       "        vertical-align: top;\n",
       "    }\n",
       "\n",
       "    .dataframe thead th {\n",
       "        text-align: right;\n",
       "    }\n",
       "</style>\n",
       "<table border=\"1\" class=\"dataframe\">\n",
       "  <thead>\n",
       "    <tr style=\"text-align: right;\">\n",
       "      <th></th>\n",
       "      <th>mean</th>\n",
       "      <th>diff</th>\n",
       "      <th>risk</th>\n",
       "    </tr>\n",
       "    <tr>\n",
       "      <th>Sex</th>\n",
       "      <th></th>\n",
       "      <th></th>\n",
       "      <th></th>\n",
       "    </tr>\n",
       "  </thead>\n",
       "  <tbody>\n",
       "    <tr>\n",
       "      <th>0</th>\n",
       "      <td>0.723188</td>\n",
       "      <td>0.023188</td>\n",
       "      <td>1.033126</td>\n",
       "    </tr>\n",
       "    <tr>\n",
       "      <th>1</th>\n",
       "      <td>0.648387</td>\n",
       "      <td>-0.051613</td>\n",
       "      <td>0.926267</td>\n",
       "    </tr>\n",
       "  </tbody>\n",
       "</table>\n",
       "</div>"
      ],
      "text/plain": [
       "         mean      diff      risk\n",
       "Sex                              \n",
       "0    0.723188  0.023188  1.033126\n",
       "1    0.648387 -0.051613  0.926267"
      ]
     },
     "metadata": {},
     "output_type": "display_data"
    },
    {
     "data": {
      "text/html": [
       "<div>\n",
       "<style scoped>\n",
       "    .dataframe tbody tr th:only-of-type {\n",
       "        vertical-align: middle;\n",
       "    }\n",
       "\n",
       "    .dataframe tbody tr th {\n",
       "        vertical-align: top;\n",
       "    }\n",
       "\n",
       "    .dataframe thead th {\n",
       "        text-align: right;\n",
       "    }\n",
       "</style>\n",
       "<table border=\"1\" class=\"dataframe\">\n",
       "  <thead>\n",
       "    <tr style=\"text-align: right;\">\n",
       "      <th></th>\n",
       "      <th>mean</th>\n",
       "      <th>diff</th>\n",
       "      <th>risk</th>\n",
       "    </tr>\n",
       "    <tr>\n",
       "      <th>Job</th>\n",
       "      <th></th>\n",
       "      <th></th>\n",
       "      <th></th>\n",
       "    </tr>\n",
       "  </thead>\n",
       "  <tbody>\n",
       "    <tr>\n",
       "      <th>0</th>\n",
       "      <td>0.681818</td>\n",
       "      <td>-0.018182</td>\n",
       "      <td>0.974026</td>\n",
       "    </tr>\n",
       "    <tr>\n",
       "      <th>1</th>\n",
       "      <td>0.720000</td>\n",
       "      <td>0.020000</td>\n",
       "      <td>1.028571</td>\n",
       "    </tr>\n",
       "    <tr>\n",
       "      <th>2</th>\n",
       "      <td>0.704762</td>\n",
       "      <td>0.004762</td>\n",
       "      <td>1.006803</td>\n",
       "    </tr>\n",
       "    <tr>\n",
       "      <th>3</th>\n",
       "      <td>0.655405</td>\n",
       "      <td>-0.044595</td>\n",
       "      <td>0.936293</td>\n",
       "    </tr>\n",
       "  </tbody>\n",
       "</table>\n",
       "</div>"
      ],
      "text/plain": [
       "         mean      diff      risk\n",
       "Job                              \n",
       "0    0.681818 -0.018182  0.974026\n",
       "1    0.720000  0.020000  1.028571\n",
       "2    0.704762  0.004762  1.006803\n",
       "3    0.655405 -0.044595  0.936293"
      ]
     },
     "metadata": {},
     "output_type": "display_data"
    },
    {
     "data": {
      "text/html": [
       "<div>\n",
       "<style scoped>\n",
       "    .dataframe tbody tr th:only-of-type {\n",
       "        vertical-align: middle;\n",
       "    }\n",
       "\n",
       "    .dataframe tbody tr th {\n",
       "        vertical-align: top;\n",
       "    }\n",
       "\n",
       "    .dataframe thead th {\n",
       "        text-align: right;\n",
       "    }\n",
       "</style>\n",
       "<table border=\"1\" class=\"dataframe\">\n",
       "  <thead>\n",
       "    <tr style=\"text-align: right;\">\n",
       "      <th></th>\n",
       "      <th>mean</th>\n",
       "      <th>diff</th>\n",
       "      <th>risk</th>\n",
       "    </tr>\n",
       "    <tr>\n",
       "      <th>Housing</th>\n",
       "      <th></th>\n",
       "      <th></th>\n",
       "      <th></th>\n",
       "    </tr>\n",
       "  </thead>\n",
       "  <tbody>\n",
       "    <tr>\n",
       "      <th>0</th>\n",
       "      <td>0.592593</td>\n",
       "      <td>-0.107407</td>\n",
       "      <td>0.846561</td>\n",
       "    </tr>\n",
       "    <tr>\n",
       "      <th>1</th>\n",
       "      <td>0.608939</td>\n",
       "      <td>-0.091061</td>\n",
       "      <td>0.869912</td>\n",
       "    </tr>\n",
       "    <tr>\n",
       "      <th>2</th>\n",
       "      <td>0.739130</td>\n",
       "      <td>0.039130</td>\n",
       "      <td>1.055901</td>\n",
       "    </tr>\n",
       "  </tbody>\n",
       "</table>\n",
       "</div>"
      ],
      "text/plain": [
       "             mean      diff      risk\n",
       "Housing                              \n",
       "0        0.592593 -0.107407  0.846561\n",
       "1        0.608939 -0.091061  0.869912\n",
       "2        0.739130  0.039130  1.055901"
      ]
     },
     "metadata": {},
     "output_type": "display_data"
    },
    {
     "data": {
      "text/html": [
       "<div>\n",
       "<style scoped>\n",
       "    .dataframe tbody tr th:only-of-type {\n",
       "        vertical-align: middle;\n",
       "    }\n",
       "\n",
       "    .dataframe tbody tr th {\n",
       "        vertical-align: top;\n",
       "    }\n",
       "\n",
       "    .dataframe thead th {\n",
       "        text-align: right;\n",
       "    }\n",
       "</style>\n",
       "<table border=\"1\" class=\"dataframe\">\n",
       "  <thead>\n",
       "    <tr style=\"text-align: right;\">\n",
       "      <th></th>\n",
       "      <th>mean</th>\n",
       "      <th>diff</th>\n",
       "      <th>risk</th>\n",
       "    </tr>\n",
       "    <tr>\n",
       "      <th>Saving accounts</th>\n",
       "      <th></th>\n",
       "      <th></th>\n",
       "      <th></th>\n",
       "    </tr>\n",
       "  </thead>\n",
       "  <tbody>\n",
       "    <tr>\n",
       "      <th>0</th>\n",
       "      <td>0.665295</td>\n",
       "      <td>-0.034705</td>\n",
       "      <td>0.950421</td>\n",
       "    </tr>\n",
       "    <tr>\n",
       "      <th>1</th>\n",
       "      <td>0.748344</td>\n",
       "      <td>0.048344</td>\n",
       "      <td>1.069063</td>\n",
       "    </tr>\n",
       "    <tr>\n",
       "      <th>2</th>\n",
       "      <td>0.877193</td>\n",
       "      <td>0.177193</td>\n",
       "      <td>1.253133</td>\n",
       "    </tr>\n",
       "    <tr>\n",
       "      <th>3</th>\n",
       "      <td>0.825397</td>\n",
       "      <td>0.125397</td>\n",
       "      <td>1.179138</td>\n",
       "    </tr>\n",
       "  </tbody>\n",
       "</table>\n",
       "</div>"
      ],
      "text/plain": [
       "                     mean      diff      risk\n",
       "Saving accounts                              \n",
       "0                0.665295 -0.034705  0.950421\n",
       "1                0.748344  0.048344  1.069063\n",
       "2                0.877193  0.177193  1.253133\n",
       "3                0.825397  0.125397  1.179138"
      ]
     },
     "metadata": {},
     "output_type": "display_data"
    },
    {
     "data": {
      "text/html": [
       "<div>\n",
       "<style scoped>\n",
       "    .dataframe tbody tr th:only-of-type {\n",
       "        vertical-align: middle;\n",
       "    }\n",
       "\n",
       "    .dataframe tbody tr th {\n",
       "        vertical-align: top;\n",
       "    }\n",
       "\n",
       "    .dataframe thead th {\n",
       "        text-align: right;\n",
       "    }\n",
       "</style>\n",
       "<table border=\"1\" class=\"dataframe\">\n",
       "  <thead>\n",
       "    <tr style=\"text-align: right;\">\n",
       "      <th></th>\n",
       "      <th>mean</th>\n",
       "      <th>diff</th>\n",
       "      <th>risk</th>\n",
       "    </tr>\n",
       "    <tr>\n",
       "      <th>Checking account</th>\n",
       "      <th></th>\n",
       "      <th></th>\n",
       "      <th></th>\n",
       "    </tr>\n",
       "  </thead>\n",
       "  <tbody>\n",
       "    <tr>\n",
       "      <th>0</th>\n",
       "      <td>0.690778</td>\n",
       "      <td>-0.009222</td>\n",
       "      <td>0.986825</td>\n",
       "    </tr>\n",
       "    <tr>\n",
       "      <th>1</th>\n",
       "      <td>0.700521</td>\n",
       "      <td>0.000521</td>\n",
       "      <td>1.000744</td>\n",
       "    </tr>\n",
       "    <tr>\n",
       "      <th>2</th>\n",
       "      <td>0.777778</td>\n",
       "      <td>0.077778</td>\n",
       "      <td>1.111111</td>\n",
       "    </tr>\n",
       "  </tbody>\n",
       "</table>\n",
       "</div>"
      ],
      "text/plain": [
       "                      mean      diff      risk\n",
       "Checking account                              \n",
       "0                 0.690778 -0.009222  0.986825\n",
       "1                 0.700521  0.000521  1.000744\n",
       "2                 0.777778  0.077778  1.111111"
      ]
     },
     "metadata": {},
     "output_type": "display_data"
    },
    {
     "data": {
      "text/html": [
       "<div>\n",
       "<style scoped>\n",
       "    .dataframe tbody tr th:only-of-type {\n",
       "        vertical-align: middle;\n",
       "    }\n",
       "\n",
       "    .dataframe tbody tr th {\n",
       "        vertical-align: top;\n",
       "    }\n",
       "\n",
       "    .dataframe thead th {\n",
       "        text-align: right;\n",
       "    }\n",
       "</style>\n",
       "<table border=\"1\" class=\"dataframe\">\n",
       "  <thead>\n",
       "    <tr style=\"text-align: right;\">\n",
       "      <th></th>\n",
       "      <th>mean</th>\n",
       "      <th>diff</th>\n",
       "      <th>risk</th>\n",
       "    </tr>\n",
       "    <tr>\n",
       "      <th>Purpose</th>\n",
       "      <th></th>\n",
       "      <th></th>\n",
       "      <th></th>\n",
       "    </tr>\n",
       "  </thead>\n",
       "  <tbody>\n",
       "    <tr>\n",
       "      <th>car</th>\n",
       "      <td>0.685460</td>\n",
       "      <td>-0.014540</td>\n",
       "      <td>0.979228</td>\n",
       "    </tr>\n",
       "    <tr>\n",
       "      <th>household_products</th>\n",
       "      <td>0.737844</td>\n",
       "      <td>0.037844</td>\n",
       "      <td>1.054062</td>\n",
       "    </tr>\n",
       "    <tr>\n",
       "      <th>other</th>\n",
       "      <td>0.631579</td>\n",
       "      <td>-0.068421</td>\n",
       "      <td>0.902256</td>\n",
       "    </tr>\n",
       "  </tbody>\n",
       "</table>\n",
       "</div>"
      ],
      "text/plain": [
       "                        mean      diff      risk\n",
       "Purpose                                         \n",
       "car                 0.685460 -0.014540  0.979228\n",
       "household_products  0.737844  0.037844  1.054062\n",
       "other               0.631579 -0.068421  0.902256"
      ]
     },
     "metadata": {},
     "output_type": "display_data"
    }
   ],
   "source": [
    "for col in categorical:\n",
    "    df_group = df.groupby(by=col).Risk.agg(['mean'])\n",
    "    df_group['diff'] = df_group['mean'] - global_mean\n",
    "    df_group['risk'] = df_group['mean'] / global_mean\n",
    "    display(df_group)"
   ]
  },
  {
   "cell_type": "markdown",
   "metadata": {
    "id": "-wFurrTGox1e"
   },
   "source": [
    "Выводы:\n",
    "Так как мы исследуем данные по кредитному риску, то незначительные откланения от глобальных данных здесь могут влиять на доход или убытки в существенных суммах денежных средств.\n",
    "\n",
    "1. Признак пол(Sex):\n",
    "- У женщины риск просрочки по кредиту на 10% выше чем у мужчин.\n",
    "2. Признак квалификация(Job):\n",
    "- Больше всего риск просрочки у работников с кодом 1;\n",
    "- Меньше всего у работников с кодом 3.\n",
    "3. Признак тип жилья(Housing):\n",
    "- Больше всего риск просрочки у заемщиков собственников жилья(own - код 3);\n",
    "- Меньше всего риск просрочки у заемщиков с бесплатным(социальным жильём)(free - код 0).\n",
    "3. Признак объём средств на сберегательных счетах заёмщика(Saving accounts):\n",
    "- Больше всего риск просрочки у заемщиков с большим объёмом средств(rich - код 2);\n",
    "- Меньше всего риск просрочки у заемщиков с небольшим объёмом средств(little - код 0).\n",
    "4. Признак объём средств на основном счёте заёмщика(Checking account):\n",
    "- Больше всего риск просрочки у заемщиков с большим объёмом средств(rich - код 2);\n",
    "- Меньше всего риск просрочки у заемщиков с небольшим объёмом средств(little - код 0)."
   ]
  },
  {
   "cell_type": "code",
   "execution_count": 35,
   "metadata": {
    "id": "fkCQviPH0QRc"
   },
   "outputs": [],
   "source": [
    "def diagnostic_plots(df, variable, title):\n",
    "    fig, ax = plt.subplots(figsize=(10,7))\n",
    "    # гистограмма\n",
    "    plt.subplot(2, 2, 1)\n",
    "    df[variable].hist(bins=30)\n",
    "    ## Q-Q plot\n",
    "    plt.subplot(2, 2, 2)\n",
    "    stats.probplot(df[variable], dist=\"norm\", plot=plt)\n",
    "    # скрипка\n",
    "    plt.subplot(2, 2, 3)\n",
    "    sns.violinplot(x=df[variable])\n",
    "    # ящик с усами\n",
    "    plt.subplot(2, 2, 4)\n",
    "    sns.boxplot(x=df[variable])\n",
    "    fig.suptitle(title)\n",
    "    plt.show()"
   ]
  },
  {
   "cell_type": "code",
   "execution_count": 36,
   "metadata": {
    "colab": {
     "base_uri": "https://localhost:8080/",
     "height": 689
    },
    "executionInfo": {
     "elapsed": 1002,
     "status": "ok",
     "timestamp": 1722707374990,
     "user": {
      "displayName": "Yozhik31",
      "userId": "07739058683274005436"
     },
     "user_tz": -180
    },
    "id": "hDtDgt3D1tl2",
    "outputId": "6ab6f651-791e-4018-945b-f7fd1180c1b2"
   },
   "outputs": [
    {
     "data": {
      "image/png": "[encoded data removed]",
      "text/plain": [
       "<Figure size 1000x700 with 5 Axes>"
      ]
     },
     "metadata": {},
     "output_type": "display_data"
    }
   ],
   "source": [
    "diagnostic_plots(df, 'Age', 'Age')"
   ]
  },
  {
   "cell_type": "code",
   "execution_count": 37,
   "metadata": {
    "colab": {
     "base_uri": "https://localhost:8080/",
     "height": 689
    },
    "executionInfo": {
     "elapsed": 1027,
     "status": "ok",
     "timestamp": 1722707379107,
     "user": {
      "displayName": "Yozhik31",
      "userId": "07739058683274005436"
     },
     "user_tz": -180
    },
    "id": "JitAt2f02G2e",
    "outputId": "33c4e583-08bc-465a-f0c1-39ef12ac9458"
   },
   "outputs": [
    {
     "data": {
      "image/png": "[encoded data removed]",
      "text/plain": [
       "<Figure size 1000x700 with 5 Axes>"
      ]
     },
     "metadata": {},
     "output_type": "display_data"
    }
   ],
   "source": [
    "diagnostic_plots(df, 'Credit amount', 'Credit amount')"
   ]
  },
  {
   "cell_type": "markdown",
   "metadata": {
    "id": "pUOndWaEflLP"
   },
   "source": [
    "Линейный график для двумерного анализа зависимости:\n",
    "- суммы кредита (Credit amount) от возраста (Age) и срок кредита в месяцах (Duration);\n",
    "- срока кредита в месяцах (Duration) от от возраста (Age)."
   ]
  },
  {
   "cell_type": "code",
   "execution_count": 38,
   "metadata": {
    "colab": {
     "base_uri": "https://localhost:8080/",
     "height": 1000
    },
    "executionInfo": {
     "elapsed": 10018,
     "status": "ok",
     "timestamp": 1722707396287,
     "user": {
      "displayName": "Yozhik31",
      "userId": "07739058683274005436"
     },
     "user_tz": -180
    },
    "id": "PmoF25j7fYq-",
    "outputId": "cb957e69-b151-40da-ba30-c9aa9ab7d2c8"
   },
   "outputs": [
    {
     "data": {
      "text/plain": [
       "<Axes: xlabel='Duration', ylabel='Credit amount'>"
      ]
     },
     "execution_count": 38,
     "metadata": {},
     "output_type": "execute_result"
    },
    {
     "data": {
      "image/png": "[encoded data removed]",
      "text/plain": [
       "<Figure size 1000x1300 with 3 Axes>"
      ]
     },
     "metadata": {},
     "output_type": "display_data"
    }
   ],
   "source": [
    "fig, ax = plt.subplots(3,1,figsize=(10,13))\n",
    "\n",
    "\n",
    "sns.lineplot(data=df, x='Age', y='Credit amount', hue='Sex', lw=2, ax=ax[0], palette='Set2')\n",
    "sns.lineplot(data=df, x='Age', y='Duration', hue='Sex', lw=2, ax=ax[1], palette='Set2')\n",
    "sns.lineplot(data=df, x='Duration', y='Credit amount', hue='Sex', lw=2, ax=ax[2],  palette='Set2')"
   ]
  },
  {
   "cell_type": "markdown",
   "metadata": {
    "id": "HWphVBWybO8A"
   },
   "source": [
    "Запишем очищенный от пропусков файл для дальнейшей работы"
   ]
  },
  {
   "cell_type": "code",
   "execution_count": 39,
   "metadata": {
    "id": "0cSApFofcHuQ"
   },
   "outputs": [],
   "source": [
    "df.to_csv('german_credit.csv', index = False)"
   ]
  },
  {
   "cell_type": "markdown",
   "metadata": {
    "id": "lYEL0ZX_REkj"
   },
   "source": [
    "# Задание 2\n",
    "\n",
    "Разделите датасет на обучающую и тестовую выборки в пропорции 80:20. Разделение должно быть стратифицированным по таргету Risk.\n",
    "\n",
    "В этом и следующих заданиях используйте random_state = 1."
   ]
  },
  {
   "cell_type": "code",
   "execution_count": 40,
   "metadata": {
    "colab": {
     "base_uri": "https://localhost:8080/",
     "height": 423
    },
    "executionInfo": {
     "elapsed": 288,
     "status": "ok",
     "timestamp": 1722720588735,
     "user": {
      "displayName": "Yozhik31",
      "userId": "07739058683274005436"
     },
     "user_tz": -180
    },
    "id": "PY2Ea9ETzH9f",
    "outputId": "da92fbd7-4f47-40e7-8f01-0ade87a2c45a"
   },
   "outputs": [
    {
     "data": {
      "text/html": [
       "<div>\n",
       "<style scoped>\n",
       "    .dataframe tbody tr th:only-of-type {\n",
       "        vertical-align: middle;\n",
       "    }\n",
       "\n",
       "    .dataframe tbody tr th {\n",
       "        vertical-align: top;\n",
       "    }\n",
       "\n",
       "    .dataframe thead th {\n",
       "        text-align: right;\n",
       "    }\n",
       "</style>\n",
       "<table border=\"1\" class=\"dataframe\">\n",
       "  <thead>\n",
       "    <tr style=\"text-align: right;\">\n",
       "      <th></th>\n",
       "      <th>Age</th>\n",
       "      <th>Sex</th>\n",
       "      <th>Job</th>\n",
       "      <th>Housing</th>\n",
       "      <th>Saving accounts</th>\n",
       "      <th>Checking account</th>\n",
       "      <th>Credit amount</th>\n",
       "      <th>Duration</th>\n",
       "      <th>Purpose</th>\n",
       "      <th>Risk</th>\n",
       "    </tr>\n",
       "  </thead>\n",
       "  <tbody>\n",
       "    <tr>\n",
       "      <th>0</th>\n",
       "      <td>67</td>\n",
       "      <td>0</td>\n",
       "      <td>2</td>\n",
       "      <td>2</td>\n",
       "      <td>0</td>\n",
       "      <td>0</td>\n",
       "      <td>1169</td>\n",
       "      <td>6</td>\n",
       "      <td>household_products</td>\n",
       "      <td>1</td>\n",
       "    </tr>\n",
       "    <tr>\n",
       "      <th>1</th>\n",
       "      <td>22</td>\n",
       "      <td>1</td>\n",
       "      <td>2</td>\n",
       "      <td>2</td>\n",
       "      <td>0</td>\n",
       "      <td>1</td>\n",
       "      <td>5951</td>\n",
       "      <td>48</td>\n",
       "      <td>household_products</td>\n",
       "      <td>0</td>\n",
       "    </tr>\n",
       "    <tr>\n",
       "      <th>2</th>\n",
       "      <td>49</td>\n",
       "      <td>0</td>\n",
       "      <td>1</td>\n",
       "      <td>2</td>\n",
       "      <td>0</td>\n",
       "      <td>0</td>\n",
       "      <td>2096</td>\n",
       "      <td>12</td>\n",
       "      <td>other</td>\n",
       "      <td>1</td>\n",
       "    </tr>\n",
       "    <tr>\n",
       "      <th>3</th>\n",
       "      <td>45</td>\n",
       "      <td>0</td>\n",
       "      <td>2</td>\n",
       "      <td>0</td>\n",
       "      <td>0</td>\n",
       "      <td>0</td>\n",
       "      <td>7882</td>\n",
       "      <td>42</td>\n",
       "      <td>household_products</td>\n",
       "      <td>1</td>\n",
       "    </tr>\n",
       "    <tr>\n",
       "      <th>4</th>\n",
       "      <td>53</td>\n",
       "      <td>0</td>\n",
       "      <td>2</td>\n",
       "      <td>0</td>\n",
       "      <td>0</td>\n",
       "      <td>0</td>\n",
       "      <td>4870</td>\n",
       "      <td>24</td>\n",
       "      <td>car</td>\n",
       "      <td>0</td>\n",
       "    </tr>\n",
       "    <tr>\n",
       "      <th>...</th>\n",
       "      <td>...</td>\n",
       "      <td>...</td>\n",
       "      <td>...</td>\n",
       "      <td>...</td>\n",
       "      <td>...</td>\n",
       "      <td>...</td>\n",
       "      <td>...</td>\n",
       "      <td>...</td>\n",
       "      <td>...</td>\n",
       "      <td>...</td>\n",
       "    </tr>\n",
       "    <tr>\n",
       "      <th>995</th>\n",
       "      <td>31</td>\n",
       "      <td>1</td>\n",
       "      <td>1</td>\n",
       "      <td>2</td>\n",
       "      <td>0</td>\n",
       "      <td>0</td>\n",
       "      <td>1736</td>\n",
       "      <td>12</td>\n",
       "      <td>household_products</td>\n",
       "      <td>1</td>\n",
       "    </tr>\n",
       "    <tr>\n",
       "      <th>996</th>\n",
       "      <td>40</td>\n",
       "      <td>0</td>\n",
       "      <td>3</td>\n",
       "      <td>2</td>\n",
       "      <td>0</td>\n",
       "      <td>0</td>\n",
       "      <td>3857</td>\n",
       "      <td>30</td>\n",
       "      <td>car</td>\n",
       "      <td>1</td>\n",
       "    </tr>\n",
       "    <tr>\n",
       "      <th>997</th>\n",
       "      <td>38</td>\n",
       "      <td>0</td>\n",
       "      <td>2</td>\n",
       "      <td>2</td>\n",
       "      <td>0</td>\n",
       "      <td>0</td>\n",
       "      <td>804</td>\n",
       "      <td>12</td>\n",
       "      <td>household_products</td>\n",
       "      <td>1</td>\n",
       "    </tr>\n",
       "    <tr>\n",
       "      <th>998</th>\n",
       "      <td>23</td>\n",
       "      <td>0</td>\n",
       "      <td>2</td>\n",
       "      <td>0</td>\n",
       "      <td>0</td>\n",
       "      <td>0</td>\n",
       "      <td>1845</td>\n",
       "      <td>45</td>\n",
       "      <td>household_products</td>\n",
       "      <td>0</td>\n",
       "    </tr>\n",
       "    <tr>\n",
       "      <th>999</th>\n",
       "      <td>27</td>\n",
       "      <td>0</td>\n",
       "      <td>2</td>\n",
       "      <td>2</td>\n",
       "      <td>1</td>\n",
       "      <td>1</td>\n",
       "      <td>4576</td>\n",
       "      <td>45</td>\n",
       "      <td>car</td>\n",
       "      <td>1</td>\n",
       "    </tr>\n",
       "  </tbody>\n",
       "</table>\n",
       "<p>1000 rows × 10 columns</p>\n",
       "</div>"
      ],
      "text/plain": [
       "     Age  Sex  Job  Housing  Saving accounts  Checking account  Credit amount  \\\n",
       "0     67    0    2        2                0                 0           1169   \n",
       "1     22    1    2        2                0                 1           5951   \n",
       "2     49    0    1        2                0                 0           2096   \n",
       "3     45    0    2        0                0                 0           7882   \n",
       "4     53    0    2        0                0                 0           4870   \n",
       "..   ...  ...  ...      ...              ...               ...            ...   \n",
       "995   31    1    1        2                0                 0           1736   \n",
       "996   40    0    3        2                0                 0           3857   \n",
       "997   38    0    2        2                0                 0            804   \n",
       "998   23    0    2        0                0                 0           1845   \n",
       "999   27    0    2        2                1                 1           4576   \n",
       "\n",
       "     Duration             Purpose  Risk  \n",
       "0           6  household_products     1  \n",
       "1          48  household_products     0  \n",
       "2          12               other     1  \n",
       "3          42  household_products     1  \n",
       "4          24                 car     0  \n",
       "..        ...                 ...   ...  \n",
       "995        12  household_products     1  \n",
       "996        30                 car     1  \n",
       "997        12  household_products     1  \n",
       "998        45  household_products     0  \n",
       "999        45                 car     1  \n",
       "\n",
       "[1000 rows x 10 columns]"
      ]
     },
     "execution_count": 40,
     "metadata": {},
     "output_type": "execute_result"
    }
   ],
   "source": [
    "df_new = pd.read_csv('german_credit.csv')\n",
    "df_new"
   ]
  },
  {
   "cell_type": "code",
   "execution_count": 41,
   "metadata": {
    "colab": {
     "base_uri": "https://localhost:8080/",
     "height": 423
    },
    "executionInfo": {
     "elapsed": 354,
     "status": "ok",
     "timestamp": 1722720591985,
     "user": {
      "displayName": "Yozhik31",
      "userId": "07739058683274005436"
     },
     "user_tz": -180
    },
    "id": "FklE4-HLeFDr",
    "outputId": "f221efb6-1cde-4c3b-ca95-46693bf5a183"
   },
   "outputs": [
    {
     "data": {
      "text/html": [
       "<div>\n",
       "<style scoped>\n",
       "    .dataframe tbody tr th:only-of-type {\n",
       "        vertical-align: middle;\n",
       "    }\n",
       "\n",
       "    .dataframe tbody tr th {\n",
       "        vertical-align: top;\n",
       "    }\n",
       "\n",
       "    .dataframe thead th {\n",
       "        text-align: right;\n",
       "    }\n",
       "</style>\n",
       "<table border=\"1\" class=\"dataframe\">\n",
       "  <thead>\n",
       "    <tr style=\"text-align: right;\">\n",
       "      <th></th>\n",
       "      <th>car</th>\n",
       "      <th>household_products</th>\n",
       "      <th>other</th>\n",
       "    </tr>\n",
       "  </thead>\n",
       "  <tbody>\n",
       "    <tr>\n",
       "      <th>0</th>\n",
       "      <td>0</td>\n",
       "      <td>1</td>\n",
       "      <td>0</td>\n",
       "    </tr>\n",
       "    <tr>\n",
       "      <th>1</th>\n",
       "      <td>0</td>\n",
       "      <td>1</td>\n",
       "      <td>0</td>\n",
       "    </tr>\n",
       "    <tr>\n",
       "      <th>2</th>\n",
       "      <td>0</td>\n",
       "      <td>0</td>\n",
       "      <td>1</td>\n",
       "    </tr>\n",
       "    <tr>\n",
       "      <th>3</th>\n",
       "      <td>0</td>\n",
       "      <td>1</td>\n",
       "      <td>0</td>\n",
       "    </tr>\n",
       "    <tr>\n",
       "      <th>4</th>\n",
       "      <td>1</td>\n",
       "      <td>0</td>\n",
       "      <td>0</td>\n",
       "    </tr>\n",
       "    <tr>\n",
       "      <th>...</th>\n",
       "      <td>...</td>\n",
       "      <td>...</td>\n",
       "      <td>...</td>\n",
       "    </tr>\n",
       "    <tr>\n",
       "      <th>995</th>\n",
       "      <td>0</td>\n",
       "      <td>1</td>\n",
       "      <td>0</td>\n",
       "    </tr>\n",
       "    <tr>\n",
       "      <th>996</th>\n",
       "      <td>1</td>\n",
       "      <td>0</td>\n",
       "      <td>0</td>\n",
       "    </tr>\n",
       "    <tr>\n",
       "      <th>997</th>\n",
       "      <td>0</td>\n",
       "      <td>1</td>\n",
       "      <td>0</td>\n",
       "    </tr>\n",
       "    <tr>\n",
       "      <th>998</th>\n",
       "      <td>0</td>\n",
       "      <td>1</td>\n",
       "      <td>0</td>\n",
       "    </tr>\n",
       "    <tr>\n",
       "      <th>999</th>\n",
       "      <td>1</td>\n",
       "      <td>0</td>\n",
       "      <td>0</td>\n",
       "    </tr>\n",
       "  </tbody>\n",
       "</table>\n",
       "<p>1000 rows × 3 columns</p>\n",
       "</div>"
      ],
      "text/plain": [
       "     car  household_products  other\n",
       "0      0                   1      0\n",
       "1      0                   1      0\n",
       "2      0                   0      1\n",
       "3      0                   1      0\n",
       "4      1                   0      0\n",
       "..   ...                 ...    ...\n",
       "995    0                   1      0\n",
       "996    1                   0      0\n",
       "997    0                   1      0\n",
       "998    0                   1      0\n",
       "999    1                   0      0\n",
       "\n",
       "[1000 rows x 3 columns]"
      ]
     },
     "execution_count": 41,
     "metadata": {},
     "output_type": "execute_result"
    }
   ],
   "source": [
    "# Преобразование  категориальной переменной\n",
    "dummies = pd.get_dummies(df_new['Purpose']).astype(int)\n",
    "dummies"
   ]
  },
  {
   "cell_type": "code",
   "execution_count": 42,
   "metadata": {
    "colab": {
     "base_uri": "https://localhost:8080/",
     "height": 441
    },
    "executionInfo": {
     "elapsed": 519,
     "status": "ok",
     "timestamp": 1722720594785,
     "user": {
      "displayName": "Yozhik31",
      "userId": "07739058683274005436"
     },
     "user_tz": -180
    },
    "id": "wz74Qk_LfPNI",
    "outputId": "9c580ec4-85f4-4751-d949-84815e704107"
   },
   "outputs": [
    {
     "data": {
      "text/html": [
       "<div>\n",
       "<style scoped>\n",
       "    .dataframe tbody tr th:only-of-type {\n",
       "        vertical-align: middle;\n",
       "    }\n",
       "\n",
       "    .dataframe tbody tr th {\n",
       "        vertical-align: top;\n",
       "    }\n",
       "\n",
       "    .dataframe thead th {\n",
       "        text-align: right;\n",
       "    }\n",
       "</style>\n",
       "<table border=\"1\" class=\"dataframe\">\n",
       "  <thead>\n",
       "    <tr style=\"text-align: right;\">\n",
       "      <th></th>\n",
       "      <th>Age</th>\n",
       "      <th>Sex</th>\n",
       "      <th>Job</th>\n",
       "      <th>Housing</th>\n",
       "      <th>Saving accounts</th>\n",
       "      <th>Checking account</th>\n",
       "      <th>Credit amount</th>\n",
       "      <th>Duration</th>\n",
       "      <th>Purpose</th>\n",
       "      <th>Risk</th>\n",
       "      <th>car</th>\n",
       "      <th>household_products</th>\n",
       "      <th>other</th>\n",
       "    </tr>\n",
       "  </thead>\n",
       "  <tbody>\n",
       "    <tr>\n",
       "      <th>0</th>\n",
       "      <td>67</td>\n",
       "      <td>0</td>\n",
       "      <td>2</td>\n",
       "      <td>2</td>\n",
       "      <td>0</td>\n",
       "      <td>0</td>\n",
       "      <td>1169</td>\n",
       "      <td>6</td>\n",
       "      <td>household_products</td>\n",
       "      <td>1</td>\n",
       "      <td>0</td>\n",
       "      <td>1</td>\n",
       "      <td>0</td>\n",
       "    </tr>\n",
       "    <tr>\n",
       "      <th>1</th>\n",
       "      <td>22</td>\n",
       "      <td>1</td>\n",
       "      <td>2</td>\n",
       "      <td>2</td>\n",
       "      <td>0</td>\n",
       "      <td>1</td>\n",
       "      <td>5951</td>\n",
       "      <td>48</td>\n",
       "      <td>household_products</td>\n",
       "      <td>0</td>\n",
       "      <td>0</td>\n",
       "      <td>1</td>\n",
       "      <td>0</td>\n",
       "    </tr>\n",
       "    <tr>\n",
       "      <th>2</th>\n",
       "      <td>49</td>\n",
       "      <td>0</td>\n",
       "      <td>1</td>\n",
       "      <td>2</td>\n",
       "      <td>0</td>\n",
       "      <td>0</td>\n",
       "      <td>2096</td>\n",
       "      <td>12</td>\n",
       "      <td>other</td>\n",
       "      <td>1</td>\n",
       "      <td>0</td>\n",
       "      <td>0</td>\n",
       "      <td>1</td>\n",
       "    </tr>\n",
       "    <tr>\n",
       "      <th>3</th>\n",
       "      <td>45</td>\n",
       "      <td>0</td>\n",
       "      <td>2</td>\n",
       "      <td>0</td>\n",
       "      <td>0</td>\n",
       "      <td>0</td>\n",
       "      <td>7882</td>\n",
       "      <td>42</td>\n",
       "      <td>household_products</td>\n",
       "      <td>1</td>\n",
       "      <td>0</td>\n",
       "      <td>1</td>\n",
       "      <td>0</td>\n",
       "    </tr>\n",
       "    <tr>\n",
       "      <th>4</th>\n",
       "      <td>53</td>\n",
       "      <td>0</td>\n",
       "      <td>2</td>\n",
       "      <td>0</td>\n",
       "      <td>0</td>\n",
       "      <td>0</td>\n",
       "      <td>4870</td>\n",
       "      <td>24</td>\n",
       "      <td>car</td>\n",
       "      <td>0</td>\n",
       "      <td>1</td>\n",
       "      <td>0</td>\n",
       "      <td>0</td>\n",
       "    </tr>\n",
       "    <tr>\n",
       "      <th>...</th>\n",
       "      <td>...</td>\n",
       "      <td>...</td>\n",
       "      <td>...</td>\n",
       "      <td>...</td>\n",
       "      <td>...</td>\n",
       "      <td>...</td>\n",
       "      <td>...</td>\n",
       "      <td>...</td>\n",
       "      <td>...</td>\n",
       "      <td>...</td>\n",
       "      <td>...</td>\n",
       "      <td>...</td>\n",
       "      <td>...</td>\n",
       "    </tr>\n",
       "    <tr>\n",
       "      <th>995</th>\n",
       "      <td>31</td>\n",
       "      <td>1</td>\n",
       "      <td>1</td>\n",
       "      <td>2</td>\n",
       "      <td>0</td>\n",
       "      <td>0</td>\n",
       "      <td>1736</td>\n",
       "      <td>12</td>\n",
       "      <td>household_products</td>\n",
       "      <td>1</td>\n",
       "      <td>0</td>\n",
       "      <td>1</td>\n",
       "      <td>0</td>\n",
       "    </tr>\n",
       "    <tr>\n",
       "      <th>996</th>\n",
       "      <td>40</td>\n",
       "      <td>0</td>\n",
       "      <td>3</td>\n",
       "      <td>2</td>\n",
       "      <td>0</td>\n",
       "      <td>0</td>\n",
       "      <td>3857</td>\n",
       "      <td>30</td>\n",
       "      <td>car</td>\n",
       "      <td>1</td>\n",
       "      <td>1</td>\n",
       "      <td>0</td>\n",
       "      <td>0</td>\n",
       "    </tr>\n",
       "    <tr>\n",
       "      <th>997</th>\n",
       "      <td>38</td>\n",
       "      <td>0</td>\n",
       "      <td>2</td>\n",
       "      <td>2</td>\n",
       "      <td>0</td>\n",
       "      <td>0</td>\n",
       "      <td>804</td>\n",
       "      <td>12</td>\n",
       "      <td>household_products</td>\n",
       "      <td>1</td>\n",
       "      <td>0</td>\n",
       "      <td>1</td>\n",
       "      <td>0</td>\n",
       "    </tr>\n",
       "    <tr>\n",
       "      <th>998</th>\n",
       "      <td>23</td>\n",
       "      <td>0</td>\n",
       "      <td>2</td>\n",
       "      <td>0</td>\n",
       "      <td>0</td>\n",
       "      <td>0</td>\n",
       "      <td>1845</td>\n",
       "      <td>45</td>\n",
       "      <td>household_products</td>\n",
       "      <td>0</td>\n",
       "      <td>0</td>\n",
       "      <td>1</td>\n",
       "      <td>0</td>\n",
       "    </tr>\n",
       "    <tr>\n",
       "      <th>999</th>\n",
       "      <td>27</td>\n",
       "      <td>0</td>\n",
       "      <td>2</td>\n",
       "      <td>2</td>\n",
       "      <td>1</td>\n",
       "      <td>1</td>\n",
       "      <td>4576</td>\n",
       "      <td>45</td>\n",
       "      <td>car</td>\n",
       "      <td>1</td>\n",
       "      <td>1</td>\n",
       "      <td>0</td>\n",
       "      <td>0</td>\n",
       "    </tr>\n",
       "  </tbody>\n",
       "</table>\n",
       "<p>1000 rows × 13 columns</p>\n",
       "</div>"
      ],
      "text/plain": [
       "     Age  Sex  Job  Housing  Saving accounts  Checking account  Credit amount  \\\n",
       "0     67    0    2        2                0                 0           1169   \n",
       "1     22    1    2        2                0                 1           5951   \n",
       "2     49    0    1        2                0                 0           2096   \n",
       "3     45    0    2        0                0                 0           7882   \n",
       "4     53    0    2        0                0                 0           4870   \n",
       "..   ...  ...  ...      ...              ...               ...            ...   \n",
       "995   31    1    1        2                0                 0           1736   \n",
       "996   40    0    3        2                0                 0           3857   \n",
       "997   38    0    2        2                0                 0            804   \n",
       "998   23    0    2        0                0                 0           1845   \n",
       "999   27    0    2        2                1                 1           4576   \n",
       "\n",
       "     Duration             Purpose  Risk  car  household_products  other  \n",
       "0           6  household_products     1    0                   1      0  \n",
       "1          48  household_products     0    0                   1      0  \n",
       "2          12               other     1    0                   0      1  \n",
       "3          42  household_products     1    0                   1      0  \n",
       "4          24                 car     0    1                   0      0  \n",
       "..        ...                 ...   ...  ...                 ...    ...  \n",
       "995        12  household_products     1    0                   1      0  \n",
       "996        30                 car     1    1                   0      0  \n",
       "997        12  household_products     1    0                   1      0  \n",
       "998        45  household_products     0    0                   1      0  \n",
       "999        45                 car     1    1                   0      0  \n",
       "\n",
       "[1000 rows x 13 columns]"
      ]
     },
     "execution_count": 42,
     "metadata": {},
     "output_type": "execute_result"
    }
   ],
   "source": [
    "# Присоединение фиктивных переменных к исходному DataFrame\n",
    "df_new = pd.concat([df_new, dummies], axis=1)\n",
    "df_new"
   ]
  },
  {
   "cell_type": "code",
   "execution_count": 43,
   "metadata": {
    "colab": {
     "base_uri": "https://localhost:8080/",
     "height": 423
    },
    "executionInfo": {
     "elapsed": 302,
     "status": "ok",
     "timestamp": 1722720597657,
     "user": {
      "displayName": "Yozhik31",
      "userId": "07739058683274005436"
     },
     "user_tz": -180
    },
    "id": "PfCz4qi7fhrn",
    "outputId": "884ea682-6ba5-4848-d9c8-8a26c46c984b"
   },
   "outputs": [
    {
     "data": {
      "text/html": [
       "<div>\n",
       "<style scoped>\n",
       "    .dataframe tbody tr th:only-of-type {\n",
       "        vertical-align: middle;\n",
       "    }\n",
       "\n",
       "    .dataframe tbody tr th {\n",
       "        vertical-align: top;\n",
       "    }\n",
       "\n",
       "    .dataframe thead th {\n",
       "        text-align: right;\n",
       "    }\n",
       "</style>\n",
       "<table border=\"1\" class=\"dataframe\">\n",
       "  <thead>\n",
       "    <tr style=\"text-align: right;\">\n",
       "      <th></th>\n",
       "      <th>Age</th>\n",
       "      <th>Sex</th>\n",
       "      <th>Job</th>\n",
       "      <th>Housing</th>\n",
       "      <th>Saving accounts</th>\n",
       "      <th>Checking account</th>\n",
       "      <th>Credit amount</th>\n",
       "      <th>Duration</th>\n",
       "      <th>Risk</th>\n",
       "      <th>car</th>\n",
       "      <th>household_products</th>\n",
       "      <th>other</th>\n",
       "    </tr>\n",
       "  </thead>\n",
       "  <tbody>\n",
       "    <tr>\n",
       "      <th>0</th>\n",
       "      <td>67</td>\n",
       "      <td>0</td>\n",
       "      <td>2</td>\n",
       "      <td>2</td>\n",
       "      <td>0</td>\n",
       "      <td>0</td>\n",
       "      <td>1169</td>\n",
       "      <td>6</td>\n",
       "      <td>1</td>\n",
       "      <td>0</td>\n",
       "      <td>1</td>\n",
       "      <td>0</td>\n",
       "    </tr>\n",
       "    <tr>\n",
       "      <th>1</th>\n",
       "      <td>22</td>\n",
       "      <td>1</td>\n",
       "      <td>2</td>\n",
       "      <td>2</td>\n",
       "      <td>0</td>\n",
       "      <td>1</td>\n",
       "      <td>5951</td>\n",
       "      <td>48</td>\n",
       "      <td>0</td>\n",
       "      <td>0</td>\n",
       "      <td>1</td>\n",
       "      <td>0</td>\n",
       "    </tr>\n",
       "    <tr>\n",
       "      <th>2</th>\n",
       "      <td>49</td>\n",
       "      <td>0</td>\n",
       "      <td>1</td>\n",
       "      <td>2</td>\n",
       "      <td>0</td>\n",
       "      <td>0</td>\n",
       "      <td>2096</td>\n",
       "      <td>12</td>\n",
       "      <td>1</td>\n",
       "      <td>0</td>\n",
       "      <td>0</td>\n",
       "      <td>1</td>\n",
       "    </tr>\n",
       "    <tr>\n",
       "      <th>3</th>\n",
       "      <td>45</td>\n",
       "      <td>0</td>\n",
       "      <td>2</td>\n",
       "      <td>0</td>\n",
       "      <td>0</td>\n",
       "      <td>0</td>\n",
       "      <td>7882</td>\n",
       "      <td>42</td>\n",
       "      <td>1</td>\n",
       "      <td>0</td>\n",
       "      <td>1</td>\n",
       "      <td>0</td>\n",
       "    </tr>\n",
       "    <tr>\n",
       "      <th>4</th>\n",
       "      <td>53</td>\n",
       "      <td>0</td>\n",
       "      <td>2</td>\n",
       "      <td>0</td>\n",
       "      <td>0</td>\n",
       "      <td>0</td>\n",
       "      <td>4870</td>\n",
       "      <td>24</td>\n",
       "      <td>0</td>\n",
       "      <td>1</td>\n",
       "      <td>0</td>\n",
       "      <td>0</td>\n",
       "    </tr>\n",
       "    <tr>\n",
       "      <th>...</th>\n",
       "      <td>...</td>\n",
       "      <td>...</td>\n",
       "      <td>...</td>\n",
       "      <td>...</td>\n",
       "      <td>...</td>\n",
       "      <td>...</td>\n",
       "      <td>...</td>\n",
       "      <td>...</td>\n",
       "      <td>...</td>\n",
       "      <td>...</td>\n",
       "      <td>...</td>\n",
       "      <td>...</td>\n",
       "    </tr>\n",
       "    <tr>\n",
       "      <th>995</th>\n",
       "      <td>31</td>\n",
       "      <td>1</td>\n",
       "      <td>1</td>\n",
       "      <td>2</td>\n",
       "      <td>0</td>\n",
       "      <td>0</td>\n",
       "      <td>1736</td>\n",
       "      <td>12</td>\n",
       "      <td>1</td>\n",
       "      <td>0</td>\n",
       "      <td>1</td>\n",
       "      <td>0</td>\n",
       "    </tr>\n",
       "    <tr>\n",
       "      <th>996</th>\n",
       "      <td>40</td>\n",
       "      <td>0</td>\n",
       "      <td>3</td>\n",
       "      <td>2</td>\n",
       "      <td>0</td>\n",
       "      <td>0</td>\n",
       "      <td>3857</td>\n",
       "      <td>30</td>\n",
       "      <td>1</td>\n",
       "      <td>1</td>\n",
       "      <td>0</td>\n",
       "      <td>0</td>\n",
       "    </tr>\n",
       "    <tr>\n",
       "      <th>997</th>\n",
       "      <td>38</td>\n",
       "      <td>0</td>\n",
       "      <td>2</td>\n",
       "      <td>2</td>\n",
       "      <td>0</td>\n",
       "      <td>0</td>\n",
       "      <td>804</td>\n",
       "      <td>12</td>\n",
       "      <td>1</td>\n",
       "      <td>0</td>\n",
       "      <td>1</td>\n",
       "      <td>0</td>\n",
       "    </tr>\n",
       "    <tr>\n",
       "      <th>998</th>\n",
       "      <td>23</td>\n",
       "      <td>0</td>\n",
       "      <td>2</td>\n",
       "      <td>0</td>\n",
       "      <td>0</td>\n",
       "      <td>0</td>\n",
       "      <td>1845</td>\n",
       "      <td>45</td>\n",
       "      <td>0</td>\n",
       "      <td>0</td>\n",
       "      <td>1</td>\n",
       "      <td>0</td>\n",
       "    </tr>\n",
       "    <tr>\n",
       "      <th>999</th>\n",
       "      <td>27</td>\n",
       "      <td>0</td>\n",
       "      <td>2</td>\n",
       "      <td>2</td>\n",
       "      <td>1</td>\n",
       "      <td>1</td>\n",
       "      <td>4576</td>\n",
       "      <td>45</td>\n",
       "      <td>1</td>\n",
       "      <td>1</td>\n",
       "      <td>0</td>\n",
       "      <td>0</td>\n",
       "    </tr>\n",
       "  </tbody>\n",
       "</table>\n",
       "<p>1000 rows × 12 columns</p>\n",
       "</div>"
      ],
      "text/plain": [
       "     Age  Sex  Job  Housing  Saving accounts  Checking account  Credit amount  \\\n",
       "0     67    0    2        2                0                 0           1169   \n",
       "1     22    1    2        2                0                 1           5951   \n",
       "2     49    0    1        2                0                 0           2096   \n",
       "3     45    0    2        0                0                 0           7882   \n",
       "4     53    0    2        0                0                 0           4870   \n",
       "..   ...  ...  ...      ...              ...               ...            ...   \n",
       "995   31    1    1        2                0                 0           1736   \n",
       "996   40    0    3        2                0                 0           3857   \n",
       "997   38    0    2        2                0                 0            804   \n",
       "998   23    0    2        0                0                 0           1845   \n",
       "999   27    0    2        2                1                 1           4576   \n",
       "\n",
       "     Duration  Risk  car  household_products  other  \n",
       "0           6     1    0                   1      0  \n",
       "1          48     0    0                   1      0  \n",
       "2          12     1    0                   0      1  \n",
       "3          42     1    0                   1      0  \n",
       "4          24     0    1                   0      0  \n",
       "..        ...   ...  ...                 ...    ...  \n",
       "995        12     1    0                   1      0  \n",
       "996        30     1    1                   0      0  \n",
       "997        12     1    0                   1      0  \n",
       "998        45     0    0                   1      0  \n",
       "999        45     1    1                   0      0  \n",
       "\n",
       "[1000 rows x 12 columns]"
      ]
     },
     "execution_count": 43,
     "metadata": {},
     "output_type": "execute_result"
    }
   ],
   "source": [
    "## Удаление исходных признака Purpose\n",
    "df_new = df_new.drop(['Purpose'], axis=1)\n",
    "df_new"
   ]
  },
  {
   "cell_type": "code",
   "execution_count": 44,
   "metadata": {
    "colab": {
     "base_uri": "https://localhost:8080/"
    },
    "executionInfo": {
     "elapsed": 356,
     "status": "ok",
     "timestamp": 1722720600539,
     "user": {
      "displayName": "Yozhik31",
      "userId": "07739058683274005436"
     },
     "user_tz": -180
    },
    "id": "CyCSooHnigZh",
    "outputId": "8452b527-ddc0-4f67-d97c-bf69a452267c"
   },
   "outputs": [
    {
     "name": "stdout",
     "output_type": "stream",
     "text": [
      "<class 'pandas.core.frame.DataFrame'>\n",
      "RangeIndex: 1000 entries, 0 to 999\n",
      "Data columns (total 12 columns):\n",
      " #   Column              Non-Null Count  Dtype\n",
      "---  ------              --------------  -----\n",
      " 0   Age                 1000 non-null   int64\n",
      " 1   Sex                 1000 non-null   int64\n",
      " 2   Job                 1000 non-null   int64\n",
      " 3   Housing             1000 non-null   int64\n",
      " 4   Saving accounts     1000 non-null   int64\n",
      " 5   Checking account    1000 non-null   int64\n",
      " 6   Credit amount       1000 non-null   int64\n",
      " 7   Duration            1000 non-null   int64\n",
      " 8   Risk                1000 non-null   int64\n",
      " 9   car                 1000 non-null   int32\n",
      " 10  household_products  1000 non-null   int32\n",
      " 11  other               1000 non-null   int32\n",
      "dtypes: int32(3), int64(9)\n",
      "memory usage: 82.2 KB\n"
     ]
    }
   ],
   "source": [
    "df_new.info()"
   ]
  },
  {
   "cell_type": "code",
   "execution_count": 45,
   "metadata": {
    "colab": {
     "base_uri": "https://localhost:8080/",
     "height": 976
    },
    "executionInfo": {
     "elapsed": 1257,
     "status": "ok",
     "timestamp": 1722720604476,
     "user": {
      "displayName": "Yozhik31",
      "userId": "07739058683274005436"
     },
     "user_tz": -180
    },
    "id": "zrUTbEasiscc",
    "outputId": "c991e80c-eb90-45bc-b3fe-ad1107fe4c08"
   },
   "outputs": [
    {
     "data": {
      "text/plain": [
       "<Axes: >"
      ]
     },
     "execution_count": 45,
     "metadata": {},
     "output_type": "execute_result"
    },
    {
     "data": {
      "image/png": "[encoded data removed]",
      "text/plain": [
       "<Figure size 3000x1200 with 2 Axes>"
      ]
     },
     "metadata": {},
     "output_type": "display_data"
    }
   ],
   "source": [
    "# Использование карты корреляции для визуализации признаков с высокой корреляцией\n",
    "cor_mat= df_new.corr()\n",
    "mask = np.array(cor_mat)\n",
    "mask[np.tril_indices_from(mask)] = False\n",
    "fig=plt.gcf()\n",
    "fig.set_size_inches(30,12)\n",
    "sns.heatmap(data=cor_mat,mask=mask,square=True,annot=True,cbar=True)"
   ]
  },
  {
   "cell_type": "code",
   "execution_count": 46,
   "metadata": {
    "id": "_OlzZxKEjF6-"
   },
   "outputs": [],
   "source": [
    "X = df_new.drop(\"Risk\", axis=1)\n",
    "y = df_new[\"Risk\"]\n",
    "\n",
    "Xtrain, Xtest, ytrain, ytest = train_test_split(X, y, train_size=0.8, stratify=y, random_state=1)"
   ]
  },
  {
   "cell_type": "markdown",
   "metadata": {
    "id": "W9rsryWmVTm_"
   },
   "source": [
    "# Задание 3\n",
    "\n",
    "Проведите этап очистки и подготовки данных (data preparation) и подготовьте данные к моделированию."
   ]
  },
  {
   "cell_type": "markdown",
   "metadata": {
    "id": "78LE3FOdvKue"
   },
   "source": [
    "Очистка и подготовка проведена в Задании 1"
   ]
  },
  {
   "cell_type": "markdown",
   "metadata": {
    "id": "Lfve80cbldFX"
   },
   "source": [
    "# Задание 4\n",
    "\n",
    "Сбалансируйте обучающую выборку методом SMOTE и обучите модель RandomForestClassifier. Подберите оптимальные гиперпараметры с помощью GridSearch. Посчитайте метрику ROC-AUC на тестовой выборке."
   ]
  },
  {
   "cell_type": "markdown",
   "metadata": {
    "id": "F9fJ1EAYvU-1"
   },
   "source": [
    "Обучим модель RandomForestClassifier на несбалонсированных данных для дальнейшего сравнения."
   ]
  },
  {
   "cell_type": "code",
   "execution_count": 47,
   "metadata": {
    "id": "yVfrSFCszMD_"
   },
   "outputs": [],
   "source": [
    "model = RandomForestClassifier(n_estimators=10, max_depth=3, random_state=1)\n",
    "model.fit(Xtrain, ytrain)\n",
    "\n",
    "y_pred_train = model.predict(Xtrain)\n",
    "y_pred_test = model.predict(Xtest)"
   ]
  },
  {
   "cell_type": "code",
   "execution_count": 48,
   "metadata": {
    "colab": {
     "base_uri": "https://localhost:8080/"
    },
    "executionInfo": {
     "elapsed": 276,
     "status": "ok",
     "timestamp": 1722720614288,
     "user": {
      "displayName": "Yozhik31",
      "userId": "07739058683274005436"
     },
     "user_tz": -180
    },
    "id": "VNkLBGgZxc5T",
    "outputId": "f5a0f689-88ba-4498-8030-809989065eaf"
   },
   "outputs": [
    {
     "name": "stdout",
     "output_type": "stream",
     "text": [
      "Точность для обучающей выборки: 0.7275\n",
      "Точность для тестовой выборки: 0.705\n"
     ]
    }
   ],
   "source": [
    "print('Точность для обучающей выборки:', model.score(Xtrain, ytrain))\n",
    "print('Точность для тестовой выборки:', model.score(Xtest, ytest))"
   ]
  },
  {
   "cell_type": "code",
   "execution_count": 49,
   "metadata": {
    "id": "HCUhLEgBxo_r"
   },
   "outputs": [],
   "source": [
    "pred_forest = model.predict_proba(Xtest)[:, 1]"
   ]
  },
  {
   "cell_type": "code",
   "execution_count": 50,
   "metadata": {
    "colab": {
     "base_uri": "https://localhost:8080/"
    },
    "executionInfo": {
     "elapsed": 1,
     "status": "ok",
     "timestamp": 1722720618485,
     "user": {
      "displayName": "Yozhik31",
      "userId": "07739058683274005436"
     },
     "user_tz": -180
    },
    "id": "wkZoRHesx4_u",
    "outputId": "45e3ba39-8a71-4608-81f2-2eb65301e083"
   },
   "outputs": [
    {
     "data": {
      "text/plain": [
       "0.6722023809523809"
      ]
     },
     "execution_count": 50,
     "metadata": {},
     "output_type": "execute_result"
    }
   ],
   "source": [
    "roc_auc_score(ytest, pred_forest)"
   ]
  },
  {
   "cell_type": "code",
   "execution_count": 76,
   "metadata": {
    "colab": {
     "base_uri": "https://localhost:8080/"
    },
    "executionInfo": {
     "elapsed": 5828,
     "status": "ok",
     "timestamp": 1722714586736,
     "user": {
      "displayName": "Yozhik31",
      "userId": "07739058683274005436"
     },
     "user_tz": -180
    },
    "id": "q2PsRNsYylXZ",
    "outputId": "1c73aabd-1d50-4b8f-e451-5917a0be57e1"
   },
   "outputs": [
    {
     "name": "stdout",
     "output_type": "stream",
     "text": [
      "Requirement already satisfied: imbalanced-learn in c:\\users\\natau\\anaconda3\\lib\\site-packages (0.11.0)\n",
      "Requirement already satisfied: numpy>=1.17.3 in c:\\users\\natau\\anaconda3\\lib\\site-packages (from imbalanced-learn) (1.26.4)\n",
      "Requirement already satisfied: scipy>=1.5.0 in c:\\users\\natau\\anaconda3\\lib\\site-packages (from imbalanced-learn) (1.11.4)\n",
      "Requirement already satisfied: scikit-learn>=1.0.2 in c:\\users\\natau\\anaconda3\\lib\\site-packages (from imbalanced-learn) (1.6.1)\n",
      "Requirement already satisfied: joblib>=1.1.1 in c:\\users\\natau\\anaconda3\\lib\\site-packages (from imbalanced-learn) (1.2.0)\n",
      "Requirement already satisfied: threadpoolctl>=2.0.0 in c:\\users\\natau\\anaconda3\\lib\\site-packages (from imbalanced-learn) (3.5.0)\n",
      "Collecting SMOTE\n",
      "  Using cached smote-0.1-py2.py3-none-any.whl.metadata (278 bytes)\n",
      "Requirement already satisfied: numpy>=1.14.3 in c:\\users\\natau\\anaconda3\\lib\\site-packages (from SMOTE) (1.26.4)\n",
      "Requirement already satisfied: scikit-learn>=0.19.1 in c:\\users\\natau\\anaconda3\\lib\\site-packages (from SMOTE) (1.6.1)\n",
      "Requirement already satisfied: scipy>=1.6.0 in c:\\users\\natau\\anaconda3\\lib\\site-packages (from scikit-learn>=0.19.1->SMOTE) (1.11.4)\n",
      "Requirement already satisfied: joblib>=1.2.0 in c:\\users\\natau\\anaconda3\\lib\\site-packages (from scikit-learn>=0.19.1->SMOTE) (1.2.0)\n",
      "Requirement already satisfied: threadpoolctl>=3.1.0 in c:\\users\\natau\\anaconda3\\lib\\site-packages (from scikit-learn>=0.19.1->SMOTE) (3.5.0)\n",
      "Using cached smote-0.1-py2.py3-none-any.whl (3.3 kB)\n",
      "Installing collected packages: SMOTE\n",
      "Successfully installed SMOTE-0.1\n"
     ]
    }
   ],
   "source": [
    "!pip install imbalanced-learn\n",
    "!pip install SMOTE"
   ]
  },
  {
   "cell_type": "code",
   "execution_count": null,
   "metadata": {},
   "outputs": [],
   "source": [
    "from imblearn.over_sampling import SMOTE\n",
    "os = SMOTE(random_state=1, k_neighbors=2)\n",
    "X_train, y_train = os.fit_resample(X, y)"
   ]
  },
  {
   "cell_type": "code",
   "execution_count": null,
   "metadata": {},
   "outputs": [],
   "source": [
    "y_train.value_counts()"
   ]
  },
  {
   "cell_type": "code",
   "execution_count": null,
   "metadata": {
    "colab": {
     "base_uri": "https://localhost:8080/"
    },
    "executionInfo": {
     "elapsed": 271,
     "status": "ok",
     "timestamp": 1722720628682,
     "user": {
      "displayName": "Yozhik31",
      "userId": "07739058683274005436"
     },
     "user_tz": -180
    },
    "id": "tvLj5PjGzWGj",
    "outputId": "a34070d5-2354-446f-8251-25d61d4a1820"
   },
   "outputs": [],
   "source": [
    "model = RandomForestClassifier(n_estimators=10, max_depth=3, random_state=1)\n",
    "model.fit(X_train, y_train)\n",
    "\n",
    "print(roc_auc_score(ytest, model.predict_proba(Xtest)[:, 1]))"
   ]
  },
  {
   "cell_type": "markdown",
   "metadata": {
    "id": "EJEMfqOB0Niu"
   },
   "source": [
    "Метод SMOTE улучшил качество модели.  ROC-AUC увеличился с 0,67 до 0,71"
   ]
  },
  {
   "cell_type": "code",
   "execution_count": 69,
   "metadata": {
    "id": "w6m5JfNp2W2t"
   },
   "outputs": [],
   "source": [
    "from sklearn.model_selection import GridSearchCV"
   ]
  },
  {
   "cell_type": "code",
   "execution_count": 70,
   "metadata": {
    "id": "QvzxMImb1lm4"
   },
   "outputs": [],
   "source": [
    "rfc=RandomForestClassifier(random_state=1)"
   ]
  },
  {
   "cell_type": "code",
   "execution_count": 71,
   "metadata": {
    "id": "8PmYjGK71uGZ"
   },
   "outputs": [],
   "source": [
    "param_grid = {\n",
    "    'n_estimators': [200, 500],\n",
    "    'max_features': ['auto', 'sqrt', 'log2'],\n",
    "    'max_depth' : [4,5,6,7,8],\n",
    "    'criterion' :['gini', 'entropy']\n",
    "}\n",
    "\n",
    "# Set up score\n",
    "scoring = ['roc_auc']"
   ]
  },
  {
   "cell_type": "code",
   "execution_count": 72,
   "metadata": {
    "colab": {
     "base_uri": "https://localhost:8080/"
    },
    "executionInfo": {
     "elapsed": 170525,
     "status": "ok",
     "timestamp": 1722716979007,
     "user": {
      "displayName": "Yozhik31",
      "userId": "07739058683274005436"
     },
     "user_tz": -180
    },
    "id": "YX0DuPRo2oLI",
    "outputId": "5a2b4aea-ed80-4842-e3b9-18959f341189"
   },
   "outputs": [
    {
     "ename": "NameError",
     "evalue": "name 'X_train' is not defined",
     "output_type": "error",
     "traceback": [
      "\u001b[1;31m---------------------------------------------------------------------------\u001b[0m",
      "\u001b[1;31mNameError\u001b[0m                                 Traceback (most recent call last)",
      "Cell \u001b[1;32mIn[72], line 9\u001b[0m\n\u001b[0;32m      1\u001b[0m grid_search \u001b[38;5;241m=\u001b[39mGridSearchCV(estimator\u001b[38;5;241m=\u001b[39mrfc,\n\u001b[0;32m      2\u001b[0m                            param_grid\u001b[38;5;241m=\u001b[39mparam_grid,\n\u001b[0;32m      3\u001b[0m                            scoring\u001b[38;5;241m=\u001b[39mscoring,\n\u001b[1;32m   (...)\u001b[0m\n\u001b[0;32m      6\u001b[0m                            cv\u001b[38;5;241m=\u001b[39m\u001b[38;5;241m5\u001b[39m,\n\u001b[0;32m      7\u001b[0m                            verbose\u001b[38;5;241m=\u001b[39m\u001b[38;5;28;01mTrue\u001b[39;00m)\n\u001b[1;32m----> 9\u001b[0m grid_result \u001b[38;5;241m=\u001b[39m grid_search\u001b[38;5;241m.\u001b[39mfit(X_train, y_train)\n\u001b[0;32m     11\u001b[0m \u001b[38;5;28mprint\u001b[39m(\u001b[38;5;124m\"\u001b[39m\u001b[38;5;124mподбор гиперпараметров :(лучшие параметры) \u001b[39m\u001b[38;5;124m\"\u001b[39m, grid_result\u001b[38;5;241m.\u001b[39mbest_params_)\n\u001b[0;32m     12\u001b[0m \u001b[38;5;28mprint\u001b[39m(\u001b[38;5;124m\"\u001b[39m\u001b[38;5;124mroc-auc :\u001b[39m\u001b[38;5;124m\"\u001b[39m, grid_result\u001b[38;5;241m.\u001b[39mbest_score_)\n",
      "\u001b[1;31mNameError\u001b[0m: name 'X_train' is not defined"
     ]
    }
   ],
   "source": [
    "grid_search =GridSearchCV(estimator=rfc,\n",
    "                           param_grid=param_grid,\n",
    "                           scoring=scoring,\n",
    "                           refit='roc_auc',\n",
    "                           n_jobs=-1,\n",
    "                           cv=5,\n",
    "                           verbose=True)\n",
    "\n",
    "grid_result = grid_search.fit(X_train, y_train)\n",
    "\n",
    "print(\"подбор гиперпараметров :(лучшие параметры) \", grid_result.best_params_)\n",
    "print(\"roc-auc :\", grid_result.best_score_)"
   ]
  },
  {
   "cell_type": "code",
   "execution_count": null,
   "metadata": {
    "colab": {
     "base_uri": "https://localhost:8080/"
    },
    "executionInfo": {
     "elapsed": 1646,
     "status": "ok",
     "timestamp": 1722720671342,
     "user": {
      "displayName": "Yozhik31",
      "userId": "07739058683274005436"
     },
     "user_tz": -180
    },
    "id": "ihsWOztU4cKR",
    "outputId": "a17dcd11-67e0-4c14-89e8-7384c83e4a30"
   },
   "outputs": [],
   "source": [
    "rfc1 = RandomForestClassifier(max_features='sqrt',\n",
    "                              n_estimators= 500,\n",
    "                              max_depth=8,\n",
    "                              criterion='gini',\n",
    "                              random_state=1)\n",
    "\n",
    "rfc1.fit(X_train, y_train)\n",
    "\n",
    "print(roc_auc_score(ytest, rfc1.predict_proba(Xtest)[:, 1]))"
   ]
  },
  {
   "cell_type": "markdown",
   "metadata": {
    "id": "B1ysndUDu5YU"
   },
   "source": [
    "# Задание 5\n",
    "\n",
    "Обучите модель RandomForestClassifier с использованием весов классов. Подберите оптимальные веса и гиперпараметры с помощью GridSearch. Посчитайте метрику ROC-AUC на тестовой выборке."
   ]
  },
  {
   "cell_type": "markdown",
   "metadata": {
    "id": "ApeuTN8LHs_i"
   },
   "source": [
    "В приведенном коде мы используем библиотеку Scikit-learn для вычисления весов классов с помощью compute_class_weight. Параметр 'balanced' автоматически вычисляет веса классов на основе их доли в данных. Затем мы передаем эти веса в нашу модель случайного леса, что позволяет учесть дисбаланс классов."
   ]
  },
  {
   "cell_type": "code",
   "execution_count": null,
   "metadata": {
    "id": "yRuPoyUEGCPJ"
   },
   "outputs": [],
   "source": [
    "from sklearn.utils.class_weight import compute_class_weight"
   ]
  },
  {
   "cell_type": "code",
   "execution_count": null,
   "metadata": {
    "id": "wMIQWVxjGD5e"
   },
   "outputs": [],
   "source": [
    "class_weights = compute_class_weight('balanced', classes=np.unique(y), y=ytrain)"
   ]
  },
  {
   "cell_type": "code",
   "execution_count": null,
   "metadata": {
    "colab": {
     "base_uri": "https://localhost:8080/"
    },
    "executionInfo": {
     "elapsed": 620,
     "status": "ok",
     "timestamp": 1722720898664,
     "user": {
      "displayName": "Yozhik31",
      "userId": "07739058683274005436"
     },
     "user_tz": -180
    },
    "id": "3Sb2ePQqGS6H",
    "outputId": "48ceee92-290d-4ad3-f7a0-df9f1f5e7cdc"
   },
   "outputs": [],
   "source": [
    "model_forest_class = RandomForestClassifier(class_weight=dict(enumerate(class_weights)), random_state=1)\n",
    "\n",
    "model_forest_class.fit(Xtrain, ytrain)\n",
    "\n",
    "print(roc_auc_score(ytest, model_forest_class.predict_proba(Xtest)[:, 1]))"
   ]
  },
  {
   "cell_type": "code",
   "execution_count": null,
   "metadata": {
    "colab": {
     "base_uri": "https://localhost:8080/"
    },
    "executionInfo": {
     "elapsed": 154466,
     "status": "ok",
     "timestamp": 1722721403759,
     "user": {
      "displayName": "Yozhik31",
      "userId": "07739058683274005436"
     },
     "user_tz": -180
    },
    "id": "-F9oiPboHPH7",
    "outputId": "abce7b89-d0c8-41cd-ef28-3c585ed4e048"
   },
   "outputs": [],
   "source": [
    "grid_search =GridSearchCV(estimator=model_forest_class,\n",
    "                           param_grid=param_grid,\n",
    "                           scoring=scoring,\n",
    "                           refit='roc_auc',\n",
    "                           n_jobs=-1,\n",
    "                           cv=5,\n",
    "                           verbose=True)\n",
    "\n",
    "grid_result = grid_search.fit(Xtrain, ytrain)\n",
    "\n",
    "print(\"подбор гиперпараметров :(лучшие параметры) \", grid_result.best_params_)\n",
    "print(\"roc-auc :\", grid_result.best_score_)"
   ]
  },
  {
   "cell_type": "code",
   "execution_count": null,
   "metadata": {
    "colab": {
     "base_uri": "https://localhost:8080/"
    },
    "executionInfo": {
     "elapsed": 699,
     "status": "ok",
     "timestamp": 1722721435239,
     "user": {
      "displayName": "Yozhik31",
      "userId": "07739058683274005436"
     },
     "user_tz": -180
    },
    "id": "K6nDc3pTIKkB",
    "outputId": "8734553a-e3d9-4327-bcb2-195da456657b"
   },
   "outputs": [],
   "source": [
    "model_forest_class1 = RandomForestClassifier(class_weight=dict(enumerate(class_weights),\n",
    "                                                               max_features='sqrt',\n",
    "                                                               n_estimators= 500,\n",
    "                                                               max_depth=5,\n",
    "                                                               criterion='gini',\n",
    "                                                               random_state=1))\n",
    "\n",
    "model_forest_class1.fit(Xtrain, ytrain)\n",
    "\n",
    "print(roc_auc_score(ytest, model_forest_class1.predict_proba(Xtest)[:, 1]))"
   ]
  },
  {
   "cell_type": "markdown",
   "metadata": {
    "id": "b3fpSpqHi9-r"
   },
   "source": [
    "Выводы:\n",
    " - Лучший вариант показала модель SMOTE c подобранными гиперпараметрами ROC-AUC = 0.95\n",
    "\n",
    " Недостатки SMOTE:\n",
    "- Генерируются синтетические данные, которых не было в исходной выборке.\n",
    "- Метод используется только для числовых признаков."
   ]
  }
 ],
 "metadata": {
  "colab": {
   "provenance": []
  },
  "gpuClass": "standard",
  "kernelspec": {
   "display_name": "Python 3 (ipykernel)",
   "language": "python",
   "name": "python3"
  },
  "language_info": {
   "codemirror_mode": {
    "name": "ipython",
    "version": 3
   },
   "file_extension": ".py",
   "mimetype": "text/x-python",
   "name": "python",
   "nbconvert_exporter": "python",
   "pygments_lexer": "ipython3",
   "version": "3.11.7"
  }
 },
 "nbformat": 4,
 "nbformat_minor": 1
}
